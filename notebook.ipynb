{
 "cells": [
  {
   "cell_type": "code",
   "execution_count": 1,
   "id": "c483cd55",
   "metadata": {},
   "outputs": [
    {
     "name": "stderr",
     "output_type": "stream",
     "text": [
      "/Users/deliad/opt/anaconda3/envs/ml-zoomcamp/lib/python3.9/site-packages/xgboost/compat.py:36: FutureWarning: pandas.Int64Index is deprecated and will be removed from pandas in a future version. Use pandas.Index with the appropriate dtype instead.\n",
      "  from pandas import MultiIndex, Int64Index\n"
     ]
    }
   ],
   "source": [
    "import numpy as np\n",
    "import pandas as pd\n",
    "import seaborn as sns\n",
    "from sklearn.model_selection import train_test_split\n",
    "from sklearn.feature_extraction import DictVectorizer\n",
    "from sklearn.linear_model import LinearRegression\n",
    "from sklearn.ensemble import RandomForestRegressor\n",
    "from sklearn.metrics import mean_squared_error\n",
    "import xgboost as xgb"
   ]
  },
  {
   "cell_type": "code",
   "execution_count": 2,
   "id": "f926856a",
   "metadata": {},
   "outputs": [
    {
     "data": {
      "text/plain": [
       "age         0\n",
       "sex         0\n",
       "bmi         0\n",
       "children    0\n",
       "smoker      0\n",
       "region      0\n",
       "charges     0\n",
       "dtype: int64"
      ]
     },
     "execution_count": 2,
     "metadata": {},
     "output_type": "execute_result"
    }
   ],
   "source": [
    "df = pd.read_csv('insurance.csv')\n",
    "df.isna().sum()"
   ]
  },
  {
   "cell_type": "code",
   "execution_count": 3,
   "id": "cab4c3d2",
   "metadata": {},
   "outputs": [
    {
     "data": {
      "text/html": [
       "<div>\n",
       "<style scoped>\n",
       "    .dataframe tbody tr th:only-of-type {\n",
       "        vertical-align: middle;\n",
       "    }\n",
       "\n",
       "    .dataframe tbody tr th {\n",
       "        vertical-align: top;\n",
       "    }\n",
       "\n",
       "    .dataframe thead th {\n",
       "        text-align: right;\n",
       "    }\n",
       "</style>\n",
       "<table border=\"1\" class=\"dataframe\">\n",
       "  <thead>\n",
       "    <tr style=\"text-align: right;\">\n",
       "      <th></th>\n",
       "      <th>age</th>\n",
       "      <th>sex</th>\n",
       "      <th>bmi</th>\n",
       "      <th>children</th>\n",
       "      <th>smoker</th>\n",
       "      <th>region</th>\n",
       "      <th>charges</th>\n",
       "    </tr>\n",
       "  </thead>\n",
       "  <tbody>\n",
       "    <tr>\n",
       "      <th>0</th>\n",
       "      <td>19</td>\n",
       "      <td>female</td>\n",
       "      <td>27.900</td>\n",
       "      <td>0</td>\n",
       "      <td>yes</td>\n",
       "      <td>southwest</td>\n",
       "      <td>16884.92400</td>\n",
       "    </tr>\n",
       "    <tr>\n",
       "      <th>1</th>\n",
       "      <td>18</td>\n",
       "      <td>male</td>\n",
       "      <td>33.770</td>\n",
       "      <td>1</td>\n",
       "      <td>no</td>\n",
       "      <td>southeast</td>\n",
       "      <td>1725.55230</td>\n",
       "    </tr>\n",
       "    <tr>\n",
       "      <th>2</th>\n",
       "      <td>28</td>\n",
       "      <td>male</td>\n",
       "      <td>33.000</td>\n",
       "      <td>3</td>\n",
       "      <td>no</td>\n",
       "      <td>southeast</td>\n",
       "      <td>4449.46200</td>\n",
       "    </tr>\n",
       "    <tr>\n",
       "      <th>3</th>\n",
       "      <td>33</td>\n",
       "      <td>male</td>\n",
       "      <td>22.705</td>\n",
       "      <td>0</td>\n",
       "      <td>no</td>\n",
       "      <td>northwest</td>\n",
       "      <td>21984.47061</td>\n",
       "    </tr>\n",
       "    <tr>\n",
       "      <th>4</th>\n",
       "      <td>32</td>\n",
       "      <td>male</td>\n",
       "      <td>28.880</td>\n",
       "      <td>0</td>\n",
       "      <td>no</td>\n",
       "      <td>northwest</td>\n",
       "      <td>3866.85520</td>\n",
       "    </tr>\n",
       "  </tbody>\n",
       "</table>\n",
       "</div>"
      ],
      "text/plain": [
       "   age     sex     bmi  children smoker     region      charges\n",
       "0   19  female  27.900         0    yes  southwest  16884.92400\n",
       "1   18    male  33.770         1     no  southeast   1725.55230\n",
       "2   28    male  33.000         3     no  southeast   4449.46200\n",
       "3   33    male  22.705         0     no  northwest  21984.47061\n",
       "4   32    male  28.880         0     no  northwest   3866.85520"
      ]
     },
     "execution_count": 3,
     "metadata": {},
     "output_type": "execute_result"
    }
   ],
   "source": [
    "df.head()"
   ]
  },
  {
   "cell_type": "code",
   "execution_count": 65,
   "id": "35e8a0f3",
   "metadata": {},
   "outputs": [
    {
     "data": {
      "text/plain": [
       "(1327, 7)"
      ]
     },
     "execution_count": 65,
     "metadata": {},
     "output_type": "execute_result"
    }
   ],
   "source": [
    "df.shape"
   ]
  },
  {
   "cell_type": "code",
   "execution_count": 4,
   "id": "ced1e637",
   "metadata": {},
   "outputs": [
    {
     "data": {
      "text/plain": [
       "1121.8739"
      ]
     },
     "execution_count": 4,
     "metadata": {},
     "output_type": "execute_result"
    }
   ],
   "source": [
    "df.charges.min()"
   ]
  },
  {
   "cell_type": "code",
   "execution_count": 5,
   "id": "a0895b1e",
   "metadata": {},
   "outputs": [
    {
     "data": {
      "text/plain": [
       "63770.42801"
      ]
     },
     "execution_count": 5,
     "metadata": {},
     "output_type": "execute_result"
    }
   ],
   "source": [
    "df.charges.max()"
   ]
  },
  {
   "cell_type": "code",
   "execution_count": 6,
   "id": "16365090",
   "metadata": {},
   "outputs": [
    {
     "data": {
      "text/plain": [
       "49600.45597522324"
      ]
     },
     "execution_count": 6,
     "metadata": {},
     "output_type": "execute_result"
    }
   ],
   "source": [
    "df['charges'].mean() + 3*df['charges'].std()"
   ]
  },
  {
   "cell_type": "code",
   "execution_count": 7,
   "id": "376692da",
   "metadata": {},
   "outputs": [
    {
     "data": {
      "text/plain": [
       "-23059.611444940725"
      ]
     },
     "execution_count": 7,
     "metadata": {},
     "output_type": "execute_result"
    }
   ],
   "source": [
    "df['charges'].mean() - 3*df['charges'].std()"
   ]
  },
  {
   "cell_type": "code",
   "execution_count": 8,
   "id": "b0683c4a",
   "metadata": {},
   "outputs": [
    {
     "data": {
      "text/html": [
       "<div>\n",
       "<style scoped>\n",
       "    .dataframe tbody tr th:only-of-type {\n",
       "        vertical-align: middle;\n",
       "    }\n",
       "\n",
       "    .dataframe tbody tr th {\n",
       "        vertical-align: top;\n",
       "    }\n",
       "\n",
       "    .dataframe thead th {\n",
       "        text-align: right;\n",
       "    }\n",
       "</style>\n",
       "<table border=\"1\" class=\"dataframe\">\n",
       "  <thead>\n",
       "    <tr style=\"text-align: right;\">\n",
       "      <th></th>\n",
       "      <th>age</th>\n",
       "      <th>sex</th>\n",
       "      <th>bmi</th>\n",
       "      <th>children</th>\n",
       "      <th>smoker</th>\n",
       "      <th>region</th>\n",
       "      <th>charges</th>\n",
       "    </tr>\n",
       "  </thead>\n",
       "  <tbody>\n",
       "    <tr>\n",
       "      <th>34</th>\n",
       "      <td>28</td>\n",
       "      <td>male</td>\n",
       "      <td>36.400</td>\n",
       "      <td>1</td>\n",
       "      <td>yes</td>\n",
       "      <td>southwest</td>\n",
       "      <td>51194.55914</td>\n",
       "    </tr>\n",
       "    <tr>\n",
       "      <th>543</th>\n",
       "      <td>54</td>\n",
       "      <td>female</td>\n",
       "      <td>47.410</td>\n",
       "      <td>0</td>\n",
       "      <td>yes</td>\n",
       "      <td>southeast</td>\n",
       "      <td>63770.42801</td>\n",
       "    </tr>\n",
       "    <tr>\n",
       "      <th>577</th>\n",
       "      <td>31</td>\n",
       "      <td>female</td>\n",
       "      <td>38.095</td>\n",
       "      <td>1</td>\n",
       "      <td>yes</td>\n",
       "      <td>northeast</td>\n",
       "      <td>58571.07448</td>\n",
       "    </tr>\n",
       "    <tr>\n",
       "      <th>819</th>\n",
       "      <td>33</td>\n",
       "      <td>female</td>\n",
       "      <td>35.530</td>\n",
       "      <td>0</td>\n",
       "      <td>yes</td>\n",
       "      <td>northwest</td>\n",
       "      <td>55135.40209</td>\n",
       "    </tr>\n",
       "    <tr>\n",
       "      <th>1146</th>\n",
       "      <td>60</td>\n",
       "      <td>male</td>\n",
       "      <td>32.800</td>\n",
       "      <td>0</td>\n",
       "      <td>yes</td>\n",
       "      <td>southwest</td>\n",
       "      <td>52590.82939</td>\n",
       "    </tr>\n",
       "    <tr>\n",
       "      <th>1230</th>\n",
       "      <td>52</td>\n",
       "      <td>male</td>\n",
       "      <td>34.485</td>\n",
       "      <td>3</td>\n",
       "      <td>yes</td>\n",
       "      <td>northwest</td>\n",
       "      <td>60021.39897</td>\n",
       "    </tr>\n",
       "    <tr>\n",
       "      <th>1300</th>\n",
       "      <td>45</td>\n",
       "      <td>male</td>\n",
       "      <td>30.360</td>\n",
       "      <td>0</td>\n",
       "      <td>yes</td>\n",
       "      <td>southeast</td>\n",
       "      <td>62592.87309</td>\n",
       "    </tr>\n",
       "  </tbody>\n",
       "</table>\n",
       "</div>"
      ],
      "text/plain": [
       "      age     sex     bmi  children smoker     region      charges\n",
       "34     28    male  36.400         1    yes  southwest  51194.55914\n",
       "543    54  female  47.410         0    yes  southeast  63770.42801\n",
       "577    31  female  38.095         1    yes  northeast  58571.07448\n",
       "819    33  female  35.530         0    yes  northwest  55135.40209\n",
       "1146   60    male  32.800         0    yes  southwest  52590.82939\n",
       "1230   52    male  34.485         3    yes  northwest  60021.39897\n",
       "1300   45    male  30.360         0    yes  southeast  62592.87309"
      ]
     },
     "execution_count": 8,
     "metadata": {},
     "output_type": "execute_result"
    }
   ],
   "source": [
    "df[df['charges'] > df['charges'].mean() + 3*df['charges'].std()]"
   ]
  },
  {
   "cell_type": "code",
   "execution_count": 9,
   "id": "66d3bff8",
   "metadata": {},
   "outputs": [],
   "source": [
    "df = df[(df['charges'] < df['charges'].mean() + 3*df['charges'].std())].copy()"
   ]
  },
  {
   "cell_type": "code",
   "execution_count": 10,
   "id": "bbc7e66f",
   "metadata": {},
   "outputs": [
    {
     "data": {
      "text/plain": [
       "15.96"
      ]
     },
     "execution_count": 10,
     "metadata": {},
     "output_type": "execute_result"
    }
   ],
   "source": [
    "df.bmi.min()"
   ]
  },
  {
   "cell_type": "code",
   "execution_count": 11,
   "id": "8d55723a",
   "metadata": {},
   "outputs": [
    {
     "data": {
      "text/plain": [
       "53.13"
      ]
     },
     "execution_count": 11,
     "metadata": {},
     "output_type": "execute_result"
    }
   ],
   "source": [
    "df.bmi.max()"
   ]
  },
  {
   "cell_type": "code",
   "execution_count": 12,
   "id": "61c41288",
   "metadata": {},
   "outputs": [
    {
     "data": {
      "text/plain": [
       "48.899361817599484"
      ]
     },
     "execution_count": 12,
     "metadata": {},
     "output_type": "execute_result"
    }
   ],
   "source": [
    "df['bmi'].mean() + 3*df['bmi'].std()"
   ]
  },
  {
   "cell_type": "code",
   "execution_count": 13,
   "id": "049b0a04",
   "metadata": {},
   "outputs": [
    {
     "data": {
      "text/html": [
       "<div>\n",
       "<style scoped>\n",
       "    .dataframe tbody tr th:only-of-type {\n",
       "        vertical-align: middle;\n",
       "    }\n",
       "\n",
       "    .dataframe tbody tr th {\n",
       "        vertical-align: top;\n",
       "    }\n",
       "\n",
       "    .dataframe thead th {\n",
       "        text-align: right;\n",
       "    }\n",
       "</style>\n",
       "<table border=\"1\" class=\"dataframe\">\n",
       "  <thead>\n",
       "    <tr style=\"text-align: right;\">\n",
       "      <th></th>\n",
       "      <th>age</th>\n",
       "      <th>sex</th>\n",
       "      <th>bmi</th>\n",
       "      <th>children</th>\n",
       "      <th>smoker</th>\n",
       "      <th>region</th>\n",
       "      <th>charges</th>\n",
       "    </tr>\n",
       "  </thead>\n",
       "  <tbody>\n",
       "    <tr>\n",
       "      <th>116</th>\n",
       "      <td>58</td>\n",
       "      <td>male</td>\n",
       "      <td>49.06</td>\n",
       "      <td>0</td>\n",
       "      <td>no</td>\n",
       "      <td>southeast</td>\n",
       "      <td>11381.3254</td>\n",
       "    </tr>\n",
       "    <tr>\n",
       "      <th>847</th>\n",
       "      <td>23</td>\n",
       "      <td>male</td>\n",
       "      <td>50.38</td>\n",
       "      <td>1</td>\n",
       "      <td>no</td>\n",
       "      <td>southeast</td>\n",
       "      <td>2438.0552</td>\n",
       "    </tr>\n",
       "    <tr>\n",
       "      <th>1047</th>\n",
       "      <td>22</td>\n",
       "      <td>male</td>\n",
       "      <td>52.58</td>\n",
       "      <td>1</td>\n",
       "      <td>yes</td>\n",
       "      <td>southeast</td>\n",
       "      <td>44501.3982</td>\n",
       "    </tr>\n",
       "    <tr>\n",
       "      <th>1317</th>\n",
       "      <td>18</td>\n",
       "      <td>male</td>\n",
       "      <td>53.13</td>\n",
       "      <td>0</td>\n",
       "      <td>no</td>\n",
       "      <td>southeast</td>\n",
       "      <td>1163.4627</td>\n",
       "    </tr>\n",
       "  </tbody>\n",
       "</table>\n",
       "</div>"
      ],
      "text/plain": [
       "      age   sex    bmi  children smoker     region     charges\n",
       "116    58  male  49.06         0     no  southeast  11381.3254\n",
       "847    23  male  50.38         1     no  southeast   2438.0552\n",
       "1047   22  male  52.58         1    yes  southeast  44501.3982\n",
       "1317   18  male  53.13         0     no  southeast   1163.4627"
      ]
     },
     "execution_count": 13,
     "metadata": {},
     "output_type": "execute_result"
    }
   ],
   "source": [
    "df[(df['bmi'] > df['bmi'].mean() + 3*df['bmi'].std())]"
   ]
  },
  {
   "cell_type": "code",
   "execution_count": 14,
   "id": "1126330f",
   "metadata": {},
   "outputs": [],
   "source": [
    "df = df[(df['bmi'] < df['bmi'].mean() + 3*df['bmi'].std())].copy()"
   ]
  },
  {
   "cell_type": "code",
   "execution_count": 15,
   "id": "ccb2d044",
   "metadata": {},
   "outputs": [
    {
     "data": {
      "text/plain": [
       "age           int64\n",
       "sex          object\n",
       "bmi         float64\n",
       "children      int64\n",
       "smoker       object\n",
       "region       object\n",
       "charges     float64\n",
       "dtype: object"
      ]
     },
     "execution_count": 15,
     "metadata": {},
     "output_type": "execute_result"
    }
   ],
   "source": [
    "df.dtypes"
   ]
  },
  {
   "cell_type": "code",
   "execution_count": 16,
   "id": "05e44f08",
   "metadata": {},
   "outputs": [
    {
     "data": {
      "text/plain": [
       "sex       2\n",
       "smoker    2\n",
       "region    4\n",
       "dtype: int64"
      ]
     },
     "execution_count": 16,
     "metadata": {},
     "output_type": "execute_result"
    }
   ],
   "source": [
    "df[['sex', 'smoker', 'region']].nunique()"
   ]
  },
  {
   "cell_type": "code",
   "execution_count": 17,
   "id": "f8f46126",
   "metadata": {},
   "outputs": [],
   "source": [
    "df.sex.replace(('female', 'male'), (1, 0), inplace=True)\n",
    "df.smoker.replace(('yes', 'no'), (1, 0), inplace=True)"
   ]
  },
  {
   "cell_type": "code",
   "execution_count": 18,
   "id": "d4115f19",
   "metadata": {},
   "outputs": [
    {
     "data": {
      "text/plain": [
       "age           int64\n",
       "sex           int64\n",
       "bmi         float64\n",
       "children      int64\n",
       "smoker        int64\n",
       "region       object\n",
       "charges     float64\n",
       "dtype: object"
      ]
     },
     "execution_count": 18,
     "metadata": {},
     "output_type": "execute_result"
    }
   ],
   "source": [
    "df.dtypes"
   ]
  },
  {
   "cell_type": "code",
   "execution_count": 19,
   "id": "f16f17b5",
   "metadata": {},
   "outputs": [],
   "source": [
    "X = df.drop(columns=['charges'])\n",
    "y = df['charges'].values\n",
    "dicts = X.to_dict(orient='records')\n",
    "dv = DictVectorizer(sparse=False)\n",
    "X = dv.fit_transform(dicts)"
   ]
  },
  {
   "cell_type": "code",
   "execution_count": 20,
   "id": "fca1913d",
   "metadata": {},
   "outputs": [],
   "source": [
    "X_full_train, X_test, y_full_train, y_test = train_test_split(X, y, test_size=0.2, random_state=42)\n",
    "X_train, X_val, y_train, y_val = train_test_split(X_full_train, y_full_train, test_size=0.25, random_state=42)"
   ]
  },
  {
   "cell_type": "code",
   "execution_count": 21,
   "id": "3269fd37",
   "metadata": {},
   "outputs": [
    {
     "data": {
      "text/plain": [
       "5690.67111845036"
      ]
     },
     "execution_count": 21,
     "metadata": {},
     "output_type": "execute_result"
    }
   ],
   "source": [
    "model_1 = LinearRegression()\n",
    "model_1.fit(X_train, y_train)\n",
    "y_pred = model_1.predict(X_val)\n",
    "np.sqrt(mean_squared_error(y_val, y_pred))"
   ]
  },
  {
   "cell_type": "code",
   "execution_count": 22,
   "id": "334d8b18",
   "metadata": {},
   "outputs": [],
   "source": [
    "%%capture --no-display\n",
    "estimators = [10, 20, 30, 40, 50, 60, 70, 80, 90, 100, 110, 120, 130, 140, 150, 160, 170, 180, 190, 200, 210, 220, 230, 240, 250]\n",
    "depth = [2, 3, 4, 5, 10, 15, 20, 25]\n",
    "best = pd.DataFrame(columns=[\"depth\", \"estimators\", \"RMSE_train\", \"RMSE_val\"])\n",
    "for d in depth:\n",
    "    for n in estimators:\n",
    "        rf = RandomForestRegressor(n_estimators=n, max_depth=d, random_state=42)\n",
    "        rf.fit(X_train, y_train)\n",
    "        y_pred_train = rf.predict(X_train)\n",
    "        y_pred_val = rf.predict(X_val)\n",
    "        RMSE_train = np.sqrt(mean_squared_error(y_train, y_pred_train))\n",
    "        RMSE_val = np.sqrt(mean_squared_error(y_val, y_pred_val))\n",
    "        best = best.append({'depth':d, 'estimators':n, 'RMSE_train':(round(RMSE_train, 5)), 'RMSE_val':(round(RMSE_val, 5))}, ignore_index=True)"
   ]
  },
  {
   "cell_type": "code",
   "execution_count": 23,
   "id": "c415400b",
   "metadata": {},
   "outputs": [
    {
     "data": {
      "text/html": [
       "<div>\n",
       "<style scoped>\n",
       "    .dataframe tbody tr th:only-of-type {\n",
       "        vertical-align: middle;\n",
       "    }\n",
       "\n",
       "    .dataframe tbody tr th {\n",
       "        vertical-align: top;\n",
       "    }\n",
       "\n",
       "    .dataframe thead th {\n",
       "        text-align: right;\n",
       "    }\n",
       "</style>\n",
       "<table border=\"1\" class=\"dataframe\">\n",
       "  <thead>\n",
       "    <tr style=\"text-align: right;\">\n",
       "      <th></th>\n",
       "      <th>depth</th>\n",
       "      <th>estimators</th>\n",
       "      <th>RMSE_train</th>\n",
       "      <th>RMSE_val</th>\n",
       "    </tr>\n",
       "  </thead>\n",
       "  <tbody>\n",
       "    <tr>\n",
       "      <th>52</th>\n",
       "      <td>4.0</td>\n",
       "      <td>30.0</td>\n",
       "      <td>4102.05223</td>\n",
       "      <td>4097.88626</td>\n",
       "    </tr>\n",
       "    <tr>\n",
       "      <th>50</th>\n",
       "      <td>4.0</td>\n",
       "      <td>10.0</td>\n",
       "      <td>4132.82292</td>\n",
       "      <td>4098.07851</td>\n",
       "    </tr>\n",
       "    <tr>\n",
       "      <th>58</th>\n",
       "      <td>4.0</td>\n",
       "      <td>90.0</td>\n",
       "      <td>4104.10742</td>\n",
       "      <td>4100.92284</td>\n",
       "    </tr>\n",
       "    <tr>\n",
       "      <th>73</th>\n",
       "      <td>4.0</td>\n",
       "      <td>240.0</td>\n",
       "      <td>4107.16825</td>\n",
       "      <td>4101.51869</td>\n",
       "    </tr>\n",
       "    <tr>\n",
       "      <th>72</th>\n",
       "      <td>4.0</td>\n",
       "      <td>230.0</td>\n",
       "      <td>4107.88344</td>\n",
       "      <td>4101.64279</td>\n",
       "    </tr>\n",
       "    <tr>\n",
       "      <th>...</th>\n",
       "      <td>...</td>\n",
       "      <td>...</td>\n",
       "      <td>...</td>\n",
       "      <td>...</td>\n",
       "    </tr>\n",
       "    <tr>\n",
       "      <th>17</th>\n",
       "      <td>2.0</td>\n",
       "      <td>180.0</td>\n",
       "      <td>4929.40469</td>\n",
       "      <td>4574.69440</td>\n",
       "    </tr>\n",
       "    <tr>\n",
       "      <th>100</th>\n",
       "      <td>10.0</td>\n",
       "      <td>10.0</td>\n",
       "      <td>2201.39248</td>\n",
       "      <td>4689.28490</td>\n",
       "    </tr>\n",
       "    <tr>\n",
       "      <th>125</th>\n",
       "      <td>15.0</td>\n",
       "      <td>10.0</td>\n",
       "      <td>2098.38824</td>\n",
       "      <td>4785.28064</td>\n",
       "    </tr>\n",
       "    <tr>\n",
       "      <th>175</th>\n",
       "      <td>25.0</td>\n",
       "      <td>10.0</td>\n",
       "      <td>2096.31432</td>\n",
       "      <td>4788.24653</td>\n",
       "    </tr>\n",
       "    <tr>\n",
       "      <th>150</th>\n",
       "      <td>20.0</td>\n",
       "      <td>10.0</td>\n",
       "      <td>2096.31432</td>\n",
       "      <td>4788.24653</td>\n",
       "    </tr>\n",
       "  </tbody>\n",
       "</table>\n",
       "<p>200 rows × 4 columns</p>\n",
       "</div>"
      ],
      "text/plain": [
       "     depth  estimators  RMSE_train    RMSE_val\n",
       "52     4.0        30.0  4102.05223  4097.88626\n",
       "50     4.0        10.0  4132.82292  4098.07851\n",
       "58     4.0        90.0  4104.10742  4100.92284\n",
       "73     4.0       240.0  4107.16825  4101.51869\n",
       "72     4.0       230.0  4107.88344  4101.64279\n",
       "..     ...         ...         ...         ...\n",
       "17     2.0       180.0  4929.40469  4574.69440\n",
       "100   10.0        10.0  2201.39248  4689.28490\n",
       "125   15.0        10.0  2098.38824  4785.28064\n",
       "175   25.0        10.0  2096.31432  4788.24653\n",
       "150   20.0        10.0  2096.31432  4788.24653\n",
       "\n",
       "[200 rows x 4 columns]"
      ]
     },
     "execution_count": 23,
     "metadata": {},
     "output_type": "execute_result"
    }
   ],
   "source": [
    "best.sort_values(by='RMSE_val')"
   ]
  },
  {
   "cell_type": "code",
   "execution_count": 24,
   "id": "3a46fa58",
   "metadata": {},
   "outputs": [
    {
     "data": {
      "text/html": [
       "<style>#sk-container-id-1 {color: black;background-color: white;}#sk-container-id-1 pre{padding: 0;}#sk-container-id-1 div.sk-toggleable {background-color: white;}#sk-container-id-1 label.sk-toggleable__label {cursor: pointer;display: block;width: 100%;margin-bottom: 0;padding: 0.3em;box-sizing: border-box;text-align: center;}#sk-container-id-1 label.sk-toggleable__label-arrow:before {content: \"▸\";float: left;margin-right: 0.25em;color: #696969;}#sk-container-id-1 label.sk-toggleable__label-arrow:hover:before {color: black;}#sk-container-id-1 div.sk-estimator:hover label.sk-toggleable__label-arrow:before {color: black;}#sk-container-id-1 div.sk-toggleable__content {max-height: 0;max-width: 0;overflow: hidden;text-align: left;background-color: #f0f8ff;}#sk-container-id-1 div.sk-toggleable__content pre {margin: 0.2em;color: black;border-radius: 0.25em;background-color: #f0f8ff;}#sk-container-id-1 input.sk-toggleable__control:checked~div.sk-toggleable__content {max-height: 200px;max-width: 100%;overflow: auto;}#sk-container-id-1 input.sk-toggleable__control:checked~label.sk-toggleable__label-arrow:before {content: \"▾\";}#sk-container-id-1 div.sk-estimator input.sk-toggleable__control:checked~label.sk-toggleable__label {background-color: #d4ebff;}#sk-container-id-1 div.sk-label input.sk-toggleable__control:checked~label.sk-toggleable__label {background-color: #d4ebff;}#sk-container-id-1 input.sk-hidden--visually {border: 0;clip: rect(1px 1px 1px 1px);clip: rect(1px, 1px, 1px, 1px);height: 1px;margin: -1px;overflow: hidden;padding: 0;position: absolute;width: 1px;}#sk-container-id-1 div.sk-estimator {font-family: monospace;background-color: #f0f8ff;border: 1px dotted black;border-radius: 0.25em;box-sizing: border-box;margin-bottom: 0.5em;}#sk-container-id-1 div.sk-estimator:hover {background-color: #d4ebff;}#sk-container-id-1 div.sk-parallel-item::after {content: \"\";width: 100%;border-bottom: 1px solid gray;flex-grow: 1;}#sk-container-id-1 div.sk-label:hover label.sk-toggleable__label {background-color: #d4ebff;}#sk-container-id-1 div.sk-serial::before {content: \"\";position: absolute;border-left: 1px solid gray;box-sizing: border-box;top: 0;bottom: 0;left: 50%;z-index: 0;}#sk-container-id-1 div.sk-serial {display: flex;flex-direction: column;align-items: center;background-color: white;padding-right: 0.2em;padding-left: 0.2em;position: relative;}#sk-container-id-1 div.sk-item {position: relative;z-index: 1;}#sk-container-id-1 div.sk-parallel {display: flex;align-items: stretch;justify-content: center;background-color: white;position: relative;}#sk-container-id-1 div.sk-item::before, #sk-container-id-1 div.sk-parallel-item::before {content: \"\";position: absolute;border-left: 1px solid gray;box-sizing: border-box;top: 0;bottom: 0;left: 50%;z-index: -1;}#sk-container-id-1 div.sk-parallel-item {display: flex;flex-direction: column;z-index: 1;position: relative;background-color: white;}#sk-container-id-1 div.sk-parallel-item:first-child::after {align-self: flex-end;width: 50%;}#sk-container-id-1 div.sk-parallel-item:last-child::after {align-self: flex-start;width: 50%;}#sk-container-id-1 div.sk-parallel-item:only-child::after {width: 0;}#sk-container-id-1 div.sk-dashed-wrapped {border: 1px dashed gray;margin: 0 0.4em 0.5em 0.4em;box-sizing: border-box;padding-bottom: 0.4em;background-color: white;}#sk-container-id-1 div.sk-label label {font-family: monospace;font-weight: bold;display: inline-block;line-height: 1.2em;}#sk-container-id-1 div.sk-label-container {text-align: center;}#sk-container-id-1 div.sk-container {/* jupyter's `normalize.less` sets `[hidden] { display: none; }` but bootstrap.min.css set `[hidden] { display: none !important; }` so we also need the `!important` here to be able to override the default hidden behavior on the sphinx rendered scikit-learn.org. See: https://github.com/scikit-learn/scikit-learn/issues/21755 */display: inline-block !important;position: relative;}#sk-container-id-1 div.sk-text-repr-fallback {display: none;}</style><div id=\"sk-container-id-1\" class=\"sk-top-container\"><div class=\"sk-text-repr-fallback\"><pre>RandomForestRegressor(max_depth=4, n_estimators=30, random_state=42)</pre><b>In a Jupyter environment, please rerun this cell to show the HTML representation or trust the notebook. <br />On GitHub, the HTML representation is unable to render, please try loading this page with nbviewer.org.</b></div><div class=\"sk-container\" hidden><div class=\"sk-item\"><div class=\"sk-estimator sk-toggleable\"><input class=\"sk-toggleable__control sk-hidden--visually\" id=\"sk-estimator-id-1\" type=\"checkbox\" checked><label for=\"sk-estimator-id-1\" class=\"sk-toggleable__label sk-toggleable__label-arrow\">RandomForestRegressor</label><div class=\"sk-toggleable__content\"><pre>RandomForestRegressor(max_depth=4, n_estimators=30, random_state=42)</pre></div></div></div></div></div>"
      ],
      "text/plain": [
       "RandomForestRegressor(max_depth=4, n_estimators=30, random_state=42)"
      ]
     },
     "execution_count": 24,
     "metadata": {},
     "output_type": "execute_result"
    }
   ],
   "source": [
    "model_2 = RandomForestRegressor(n_estimators=30, max_depth=4, random_state=42)\n",
    "model_2.fit(X_train, y_train)"
   ]
  },
  {
   "cell_type": "code",
   "execution_count": 25,
   "id": "8cdfb13c",
   "metadata": {},
   "outputs": [
    {
     "name": "stderr",
     "output_type": "stream",
     "text": [
      "/Users/deliad/opt/anaconda3/envs/ml-zoomcamp/lib/python3.9/site-packages/sklearn/utils/deprecation.py:87: FutureWarning: Function get_feature_names is deprecated; get_feature_names is deprecated in 1.0 and will be removed in 1.2. Please use get_feature_names_out instead.\n",
      "  warnings.warn(msg, category=FutureWarning)\n"
     ]
    },
    {
     "data": {
      "text/plain": [
       "region=southeast    0.000000\n",
       "region=southwest    0.000000\n",
       "region=northwest    0.000061\n",
       "sex                 0.000142\n",
       "region=northeast    0.001923\n",
       "children            0.011885\n",
       "age                 0.136407\n",
       "bmi                 0.166050\n",
       "smoker              0.683531\n",
       "dtype: float64"
      ]
     },
     "execution_count": 25,
     "metadata": {},
     "output_type": "execute_result"
    }
   ],
   "source": [
    "pd.Series(model_2.feature_importances_, index=dv.get_feature_names()).sort_values()"
   ]
  },
  {
   "cell_type": "code",
   "execution_count": 326,
   "id": "2cae4af6",
   "metadata": {},
   "outputs": [
    {
     "name": "stderr",
     "output_type": "stream",
     "text": [
      "/Users/deliad/opt/anaconda3/envs/ml-zoomcamp/lib/python3.9/site-packages/sklearn/utils/deprecation.py:87: FutureWarning: Function get_feature_names is deprecated; get_feature_names is deprecated in 1.0 and will be removed in 1.2. Please use get_feature_names_out instead.\n",
      "  warnings.warn(msg, category=FutureWarning)\n"
     ]
    }
   ],
   "source": [
    "dtrain = xgb.DMatrix(X_train, label=y_train, feature_names=dv.get_feature_names())\n",
    "dval = xgb.DMatrix(X_val, label=y_val, feature_names=dv.get_feature_names())\n",
    "watchlist = [(dtrain, 'train'), (dval, 'val')]\n",
    "columns = ['eta', 'depth', 'iter_num', 'train_rmse', 'val_rmse']\n",
    "total = pd.DataFrame(columns=columns)\n",
    "def parse_xgb_output(output, e, d):\n",
    "    results = []\n",
    "    \n",
    "    for line in output.stdout.strip().split('\\n'):\n",
    "        it_line, train_line, val_line = line.split('\\t')\n",
    "        \n",
    "        it = int(it_line.strip('[]'))\n",
    "        train = float(train_line.split(':')[1])\n",
    "        val = float(val_line.split(':')[1])\n",
    "        \n",
    "        results.append((e, d, it, train, val))\n",
    "    df_results = pd.DataFrame(results, columns=columns)\n",
    "    return df_results"
   ]
  },
  {
   "cell_type": "code",
   "execution_count": 327,
   "id": "e094a936",
   "metadata": {},
   "outputs": [],
   "source": [
    "%%capture output\n",
    "\n",
    "eta = [0.01, 0.05, 0.1, 0.15, 0.2, 0.25, 0.3]\n",
    "depth = 1\n",
    "xgb_params = {\n",
    "    'eta': 0.3,\n",
    "    'max_depth': depth,\n",
    "    'min_child_weight': 1,\n",
    "\n",
    "    'objective': 'reg:squarederror',\n",
    "    'nthread': 8,\n",
    "    'eval_metric': 'rmse',\n",
    "    'seed': 42,\n",
    "    'verbosity': 1,\n",
    "}\n",
    "xgb.train(xgb_params, dtrain, evals=watchlist, num_boost_round=100)\n",
    "#total = total.append(parse_xgb_output(output, 0.3, depth), ignore_index=True).copy().reindex()"
   ]
  },
  {
   "cell_type": "code",
   "execution_count": 329,
   "id": "e6ae1e1a",
   "metadata": {},
   "outputs": [
    {
     "data": {
      "text/html": [
       "<div>\n",
       "<style scoped>\n",
       "    .dataframe tbody tr th:only-of-type {\n",
       "        vertical-align: middle;\n",
       "    }\n",
       "\n",
       "    .dataframe tbody tr th {\n",
       "        vertical-align: top;\n",
       "    }\n",
       "\n",
       "    .dataframe thead th {\n",
       "        text-align: right;\n",
       "    }\n",
       "</style>\n",
       "<table border=\"1\" class=\"dataframe\">\n",
       "  <thead>\n",
       "    <tr style=\"text-align: right;\">\n",
       "      <th></th>\n",
       "      <th>eta</th>\n",
       "      <th>depth</th>\n",
       "      <th>iter_num</th>\n",
       "      <th>train_rmse</th>\n",
       "      <th>val_rmse</th>\n",
       "    </tr>\n",
       "  </thead>\n",
       "  <tbody>\n",
       "    <tr>\n",
       "      <th>42</th>\n",
       "      <td>0.3</td>\n",
       "      <td>1</td>\n",
       "      <td>42</td>\n",
       "      <td>5561.85791</td>\n",
       "      <td>5576.93213</td>\n",
       "    </tr>\n",
       "    <tr>\n",
       "      <th>59</th>\n",
       "      <td>0.3</td>\n",
       "      <td>1</td>\n",
       "      <td>59</td>\n",
       "      <td>5526.39502</td>\n",
       "      <td>5578.02148</td>\n",
       "    </tr>\n",
       "    <tr>\n",
       "      <th>46</th>\n",
       "      <td>0.3</td>\n",
       "      <td>1</td>\n",
       "      <td>46</td>\n",
       "      <td>5550.63916</td>\n",
       "      <td>5578.15869</td>\n",
       "    </tr>\n",
       "    <tr>\n",
       "      <th>41</th>\n",
       "      <td>0.3</td>\n",
       "      <td>1</td>\n",
       "      <td>41</td>\n",
       "      <td>5564.90430</td>\n",
       "      <td>5578.32275</td>\n",
       "    </tr>\n",
       "    <tr>\n",
       "      <th>47</th>\n",
       "      <td>0.3</td>\n",
       "      <td>1</td>\n",
       "      <td>47</td>\n",
       "      <td>5547.85352</td>\n",
       "      <td>5578.34570</td>\n",
       "    </tr>\n",
       "  </tbody>\n",
       "</table>\n",
       "</div>"
      ],
      "text/plain": [
       "    eta  depth  iter_num  train_rmse    val_rmse\n",
       "42  0.3      1        42  5561.85791  5576.93213\n",
       "59  0.3      1        59  5526.39502  5578.02148\n",
       "46  0.3      1        46  5550.63916  5578.15869\n",
       "41  0.3      1        41  5564.90430  5578.32275\n",
       "47  0.3      1        47  5547.85352  5578.34570"
      ]
     },
     "execution_count": 329,
     "metadata": {},
     "output_type": "execute_result"
    }
   ],
   "source": [
    "parse_xgb_output(output, 0.3, depth).sort_values(by='val_rmse').head()"
   ]
  },
  {
   "cell_type": "code",
   "execution_count": 331,
   "id": "90df7c07",
   "metadata": {},
   "outputs": [],
   "source": [
    "%%capture output\n",
    "\n",
    "depth = 2\n",
    "xgb_params = {\n",
    "    'eta': 0.3,\n",
    "    'max_depth': depth,\n",
    "    'min_child_weight': 1,\n",
    "\n",
    "    'objective': 'reg:squarederror',\n",
    "    'nthread': 8,\n",
    "    'eval_metric': 'rmse',\n",
    "    'seed': 42,\n",
    "    'verbosity': 1,\n",
    "}\n",
    "xgb.train(xgb_params, dtrain, evals=watchlist, num_boost_round=100)\n",
    "#total = total.append(parse_xgb_output(output, 0.3, depth), ignore_index=True).copy().reindex()"
   ]
  },
  {
   "cell_type": "code",
   "execution_count": 332,
   "id": "9b578fe8",
   "metadata": {},
   "outputs": [
    {
     "data": {
      "text/html": [
       "<div>\n",
       "<style scoped>\n",
       "    .dataframe tbody tr th:only-of-type {\n",
       "        vertical-align: middle;\n",
       "    }\n",
       "\n",
       "    .dataframe tbody tr th {\n",
       "        vertical-align: top;\n",
       "    }\n",
       "\n",
       "    .dataframe thead th {\n",
       "        text-align: right;\n",
       "    }\n",
       "</style>\n",
       "<table border=\"1\" class=\"dataframe\">\n",
       "  <thead>\n",
       "    <tr style=\"text-align: right;\">\n",
       "      <th></th>\n",
       "      <th>eta</th>\n",
       "      <th>depth</th>\n",
       "      <th>iter_num</th>\n",
       "      <th>train_rmse</th>\n",
       "      <th>val_rmse</th>\n",
       "    </tr>\n",
       "  </thead>\n",
       "  <tbody>\n",
       "    <tr>\n",
       "      <th>17</th>\n",
       "      <td>0.3</td>\n",
       "      <td>2</td>\n",
       "      <td>17</td>\n",
       "      <td>4154.67676</td>\n",
       "      <td>4062.11743</td>\n",
       "    </tr>\n",
       "    <tr>\n",
       "      <th>15</th>\n",
       "      <td>0.3</td>\n",
       "      <td>2</td>\n",
       "      <td>15</td>\n",
       "      <td>4178.65088</td>\n",
       "      <td>4063.70239</td>\n",
       "    </tr>\n",
       "    <tr>\n",
       "      <th>16</th>\n",
       "      <td>0.3</td>\n",
       "      <td>2</td>\n",
       "      <td>16</td>\n",
       "      <td>4164.64746</td>\n",
       "      <td>4065.93164</td>\n",
       "    </tr>\n",
       "    <tr>\n",
       "      <th>18</th>\n",
       "      <td>0.3</td>\n",
       "      <td>2</td>\n",
       "      <td>18</td>\n",
       "      <td>4137.96924</td>\n",
       "      <td>4067.87866</td>\n",
       "    </tr>\n",
       "    <tr>\n",
       "      <th>19</th>\n",
       "      <td>0.3</td>\n",
       "      <td>2</td>\n",
       "      <td>19</td>\n",
       "      <td>4123.83252</td>\n",
       "      <td>4071.80029</td>\n",
       "    </tr>\n",
       "  </tbody>\n",
       "</table>\n",
       "</div>"
      ],
      "text/plain": [
       "    eta  depth  iter_num  train_rmse    val_rmse\n",
       "17  0.3      2        17  4154.67676  4062.11743\n",
       "15  0.3      2        15  4178.65088  4063.70239\n",
       "16  0.3      2        16  4164.64746  4065.93164\n",
       "18  0.3      2        18  4137.96924  4067.87866\n",
       "19  0.3      2        19  4123.83252  4071.80029"
      ]
     },
     "execution_count": 332,
     "metadata": {},
     "output_type": "execute_result"
    }
   ],
   "source": [
    "parse_xgb_output(output, 0.3, depth).sort_values(by='val_rmse').head()"
   ]
  },
  {
   "cell_type": "code",
   "execution_count": 333,
   "id": "c8a5aee3",
   "metadata": {},
   "outputs": [],
   "source": [
    "%%capture output\n",
    "\n",
    "depth = 3\n",
    "xgb_params = {\n",
    "    'eta': 0.3,\n",
    "    'max_depth': depth,\n",
    "    'min_child_weight': 1,\n",
    "\n",
    "    'objective': 'reg:squarederror',\n",
    "    'nthread': 8,\n",
    "    'eval_metric': 'rmse',\n",
    "    'seed': 42,\n",
    "    'verbosity': 1,\n",
    "}\n",
    "xgb.train(xgb_params, dtrain, evals=watchlist, num_boost_round=100)\n",
    "#total = total.append(parse_xgb_output(output, 0.3, depth), ignore_index=True).copy().reindex()"
   ]
  },
  {
   "cell_type": "code",
   "execution_count": 334,
   "id": "a29c2e23",
   "metadata": {},
   "outputs": [
    {
     "data": {
      "text/html": [
       "<div>\n",
       "<style scoped>\n",
       "    .dataframe tbody tr th:only-of-type {\n",
       "        vertical-align: middle;\n",
       "    }\n",
       "\n",
       "    .dataframe tbody tr th {\n",
       "        vertical-align: top;\n",
       "    }\n",
       "\n",
       "    .dataframe thead th {\n",
       "        text-align: right;\n",
       "    }\n",
       "</style>\n",
       "<table border=\"1\" class=\"dataframe\">\n",
       "  <thead>\n",
       "    <tr style=\"text-align: right;\">\n",
       "      <th></th>\n",
       "      <th>eta</th>\n",
       "      <th>depth</th>\n",
       "      <th>iter_num</th>\n",
       "      <th>train_rmse</th>\n",
       "      <th>val_rmse</th>\n",
       "    </tr>\n",
       "  </thead>\n",
       "  <tbody>\n",
       "    <tr>\n",
       "      <th>13</th>\n",
       "      <td>0.3</td>\n",
       "      <td>3</td>\n",
       "      <td>13</td>\n",
       "      <td>4025.43018</td>\n",
       "      <td>4100.24072</td>\n",
       "    </tr>\n",
       "    <tr>\n",
       "      <th>14</th>\n",
       "      <td>0.3</td>\n",
       "      <td>3</td>\n",
       "      <td>14</td>\n",
       "      <td>4008.03271</td>\n",
       "      <td>4103.56152</td>\n",
       "    </tr>\n",
       "    <tr>\n",
       "      <th>15</th>\n",
       "      <td>0.3</td>\n",
       "      <td>3</td>\n",
       "      <td>15</td>\n",
       "      <td>3990.25098</td>\n",
       "      <td>4110.43799</td>\n",
       "    </tr>\n",
       "    <tr>\n",
       "      <th>10</th>\n",
       "      <td>0.3</td>\n",
       "      <td>3</td>\n",
       "      <td>10</td>\n",
       "      <td>4109.35938</td>\n",
       "      <td>4117.20166</td>\n",
       "    </tr>\n",
       "    <tr>\n",
       "      <th>11</th>\n",
       "      <td>0.3</td>\n",
       "      <td>3</td>\n",
       "      <td>11</td>\n",
       "      <td>4083.11792</td>\n",
       "      <td>4119.26807</td>\n",
       "    </tr>\n",
       "  </tbody>\n",
       "</table>\n",
       "</div>"
      ],
      "text/plain": [
       "    eta  depth  iter_num  train_rmse    val_rmse\n",
       "13  0.3      3        13  4025.43018  4100.24072\n",
       "14  0.3      3        14  4008.03271  4103.56152\n",
       "15  0.3      3        15  3990.25098  4110.43799\n",
       "10  0.3      3        10  4109.35938  4117.20166\n",
       "11  0.3      3        11  4083.11792  4119.26807"
      ]
     },
     "execution_count": 334,
     "metadata": {},
     "output_type": "execute_result"
    }
   ],
   "source": [
    "parse_xgb_output(output, 0.3, depth).sort_values(by='val_rmse').head()"
   ]
  },
  {
   "cell_type": "code",
   "execution_count": 335,
   "id": "c4c46635",
   "metadata": {},
   "outputs": [],
   "source": [
    "%%capture output\n",
    "\n",
    "depth = 4\n",
    "xgb_params = {\n",
    "    'eta': 0.3,\n",
    "    'max_depth': depth,\n",
    "    'min_child_weight': 1,\n",
    "\n",
    "    'objective': 'reg:squarederror',\n",
    "    'nthread': 8,\n",
    "    'eval_metric': 'rmse',\n",
    "    'seed': 42,\n",
    "    'verbosity': 1,\n",
    "}\n",
    "xgb.train(xgb_params, dtrain, evals=watchlist, num_boost_round=100)"
   ]
  },
  {
   "cell_type": "code",
   "execution_count": 336,
   "id": "cedef997",
   "metadata": {},
   "outputs": [
    {
     "data": {
      "text/html": [
       "<div>\n",
       "<style scoped>\n",
       "    .dataframe tbody tr th:only-of-type {\n",
       "        vertical-align: middle;\n",
       "    }\n",
       "\n",
       "    .dataframe tbody tr th {\n",
       "        vertical-align: top;\n",
       "    }\n",
       "\n",
       "    .dataframe thead th {\n",
       "        text-align: right;\n",
       "    }\n",
       "</style>\n",
       "<table border=\"1\" class=\"dataframe\">\n",
       "  <thead>\n",
       "    <tr style=\"text-align: right;\">\n",
       "      <th></th>\n",
       "      <th>eta</th>\n",
       "      <th>depth</th>\n",
       "      <th>iter_num</th>\n",
       "      <th>train_rmse</th>\n",
       "      <th>val_rmse</th>\n",
       "    </tr>\n",
       "  </thead>\n",
       "  <tbody>\n",
       "    <tr>\n",
       "      <th>12</th>\n",
       "      <td>0.3</td>\n",
       "      <td>4</td>\n",
       "      <td>12</td>\n",
       "      <td>3758.92163</td>\n",
       "      <td>4159.74072</td>\n",
       "    </tr>\n",
       "    <tr>\n",
       "      <th>11</th>\n",
       "      <td>0.3</td>\n",
       "      <td>4</td>\n",
       "      <td>11</td>\n",
       "      <td>3803.05005</td>\n",
       "      <td>4168.61719</td>\n",
       "    </tr>\n",
       "    <tr>\n",
       "      <th>13</th>\n",
       "      <td>0.3</td>\n",
       "      <td>4</td>\n",
       "      <td>13</td>\n",
       "      <td>3719.99512</td>\n",
       "      <td>4168.97656</td>\n",
       "    </tr>\n",
       "    <tr>\n",
       "      <th>9</th>\n",
       "      <td>0.3</td>\n",
       "      <td>4</td>\n",
       "      <td>9</td>\n",
       "      <td>3948.22021</td>\n",
       "      <td>4170.62695</td>\n",
       "    </tr>\n",
       "    <tr>\n",
       "      <th>10</th>\n",
       "      <td>0.3</td>\n",
       "      <td>4</td>\n",
       "      <td>10</td>\n",
       "      <td>3873.76147</td>\n",
       "      <td>4176.27051</td>\n",
       "    </tr>\n",
       "  </tbody>\n",
       "</table>\n",
       "</div>"
      ],
      "text/plain": [
       "    eta  depth  iter_num  train_rmse    val_rmse\n",
       "12  0.3      4        12  3758.92163  4159.74072\n",
       "11  0.3      4        11  3803.05005  4168.61719\n",
       "13  0.3      4        13  3719.99512  4168.97656\n",
       "9   0.3      4         9  3948.22021  4170.62695\n",
       "10  0.3      4        10  3873.76147  4176.27051"
      ]
     },
     "execution_count": 336,
     "metadata": {},
     "output_type": "execute_result"
    }
   ],
   "source": [
    "parse_xgb_output(output, 0.3, depth).sort_values(by='val_rmse').head()"
   ]
  },
  {
   "cell_type": "code",
   "execution_count": 337,
   "id": "a3a2cec3",
   "metadata": {},
   "outputs": [],
   "source": [
    "%%capture output\n",
    "\n",
    "depth = 5\n",
    "xgb_params = {\n",
    "    'eta': 0.3,\n",
    "    'max_depth': depth,\n",
    "    'min_child_weight': 1,\n",
    "\n",
    "    'objective': 'reg:squarederror',\n",
    "    'nthread': 8,\n",
    "    'eval_metric': 'rmse',\n",
    "    'seed': 42,\n",
    "    'verbosity': 1,\n",
    "}\n",
    "xgb.train(xgb_params, dtrain, evals=watchlist, num_boost_round=100)"
   ]
  },
  {
   "cell_type": "code",
   "execution_count": 338,
   "id": "a6db7214",
   "metadata": {},
   "outputs": [
    {
     "data": {
      "text/html": [
       "<div>\n",
       "<style scoped>\n",
       "    .dataframe tbody tr th:only-of-type {\n",
       "        vertical-align: middle;\n",
       "    }\n",
       "\n",
       "    .dataframe tbody tr th {\n",
       "        vertical-align: top;\n",
       "    }\n",
       "\n",
       "    .dataframe thead th {\n",
       "        text-align: right;\n",
       "    }\n",
       "</style>\n",
       "<table border=\"1\" class=\"dataframe\">\n",
       "  <thead>\n",
       "    <tr style=\"text-align: right;\">\n",
       "      <th></th>\n",
       "      <th>eta</th>\n",
       "      <th>depth</th>\n",
       "      <th>iter_num</th>\n",
       "      <th>train_rmse</th>\n",
       "      <th>val_rmse</th>\n",
       "    </tr>\n",
       "  </thead>\n",
       "  <tbody>\n",
       "    <tr>\n",
       "      <th>10</th>\n",
       "      <td>0.3</td>\n",
       "      <td>5</td>\n",
       "      <td>10</td>\n",
       "      <td>3547.25879</td>\n",
       "      <td>4188.44678</td>\n",
       "    </tr>\n",
       "    <tr>\n",
       "      <th>9</th>\n",
       "      <td>0.3</td>\n",
       "      <td>5</td>\n",
       "      <td>9</td>\n",
       "      <td>3619.03491</td>\n",
       "      <td>4207.75732</td>\n",
       "    </tr>\n",
       "    <tr>\n",
       "      <th>12</th>\n",
       "      <td>0.3</td>\n",
       "      <td>5</td>\n",
       "      <td>12</td>\n",
       "      <td>3382.25171</td>\n",
       "      <td>4217.08154</td>\n",
       "    </tr>\n",
       "    <tr>\n",
       "      <th>11</th>\n",
       "      <td>0.3</td>\n",
       "      <td>5</td>\n",
       "      <td>11</td>\n",
       "      <td>3460.66309</td>\n",
       "      <td>4220.98730</td>\n",
       "    </tr>\n",
       "    <tr>\n",
       "      <th>8</th>\n",
       "      <td>0.3</td>\n",
       "      <td>5</td>\n",
       "      <td>8</td>\n",
       "      <td>3710.88135</td>\n",
       "      <td>4222.85645</td>\n",
       "    </tr>\n",
       "  </tbody>\n",
       "</table>\n",
       "</div>"
      ],
      "text/plain": [
       "    eta  depth  iter_num  train_rmse    val_rmse\n",
       "10  0.3      5        10  3547.25879  4188.44678\n",
       "9   0.3      5         9  3619.03491  4207.75732\n",
       "12  0.3      5        12  3382.25171  4217.08154\n",
       "11  0.3      5        11  3460.66309  4220.98730\n",
       "8   0.3      5         8  3710.88135  4222.85645"
      ]
     },
     "execution_count": 338,
     "metadata": {},
     "output_type": "execute_result"
    }
   ],
   "source": [
    "parse_xgb_output(output, 0.3, depth).sort_values(by='val_rmse').head()"
   ]
  },
  {
   "cell_type": "code",
   "execution_count": 339,
   "id": "d4c10d6b",
   "metadata": {},
   "outputs": [],
   "source": [
    "%%capture output\n",
    "\n",
    "depth = 6\n",
    "xgb_params = {\n",
    "    'eta': 0.3,\n",
    "    'max_depth': depth,\n",
    "    'min_child_weight': 1,\n",
    "\n",
    "    'objective': 'reg:squarederror',\n",
    "    'nthread': 8,\n",
    "    'eval_metric': 'rmse',\n",
    "    'seed': 42,\n",
    "    'verbosity': 1,\n",
    "}\n",
    "xgb.train(xgb_params, dtrain, evals=watchlist, num_boost_round=100)"
   ]
  },
  {
   "cell_type": "code",
   "execution_count": 340,
   "id": "a52d24a7",
   "metadata": {},
   "outputs": [
    {
     "data": {
      "text/html": [
       "<div>\n",
       "<style scoped>\n",
       "    .dataframe tbody tr th:only-of-type {\n",
       "        vertical-align: middle;\n",
       "    }\n",
       "\n",
       "    .dataframe tbody tr th {\n",
       "        vertical-align: top;\n",
       "    }\n",
       "\n",
       "    .dataframe thead th {\n",
       "        text-align: right;\n",
       "    }\n",
       "</style>\n",
       "<table border=\"1\" class=\"dataframe\">\n",
       "  <thead>\n",
       "    <tr style=\"text-align: right;\">\n",
       "      <th></th>\n",
       "      <th>eta</th>\n",
       "      <th>depth</th>\n",
       "      <th>iter_num</th>\n",
       "      <th>train_rmse</th>\n",
       "      <th>val_rmse</th>\n",
       "    </tr>\n",
       "  </thead>\n",
       "  <tbody>\n",
       "    <tr>\n",
       "      <th>10</th>\n",
       "      <td>0.3</td>\n",
       "      <td>6</td>\n",
       "      <td>10</td>\n",
       "      <td>2986.36108</td>\n",
       "      <td>4297.46387</td>\n",
       "    </tr>\n",
       "    <tr>\n",
       "      <th>9</th>\n",
       "      <td>0.3</td>\n",
       "      <td>6</td>\n",
       "      <td>9</td>\n",
       "      <td>3116.78052</td>\n",
       "      <td>4301.73828</td>\n",
       "    </tr>\n",
       "    <tr>\n",
       "      <th>11</th>\n",
       "      <td>0.3</td>\n",
       "      <td>6</td>\n",
       "      <td>11</td>\n",
       "      <td>2940.16846</td>\n",
       "      <td>4310.84619</td>\n",
       "    </tr>\n",
       "    <tr>\n",
       "      <th>12</th>\n",
       "      <td>0.3</td>\n",
       "      <td>6</td>\n",
       "      <td>12</td>\n",
       "      <td>2857.03687</td>\n",
       "      <td>4327.67822</td>\n",
       "    </tr>\n",
       "    <tr>\n",
       "      <th>8</th>\n",
       "      <td>0.3</td>\n",
       "      <td>6</td>\n",
       "      <td>8</td>\n",
       "      <td>3260.45679</td>\n",
       "      <td>4352.26270</td>\n",
       "    </tr>\n",
       "  </tbody>\n",
       "</table>\n",
       "</div>"
      ],
      "text/plain": [
       "    eta  depth  iter_num  train_rmse    val_rmse\n",
       "10  0.3      6        10  2986.36108  4297.46387\n",
       "9   0.3      6         9  3116.78052  4301.73828\n",
       "11  0.3      6        11  2940.16846  4310.84619\n",
       "12  0.3      6        12  2857.03687  4327.67822\n",
       "8   0.3      6         8  3260.45679  4352.26270"
      ]
     },
     "execution_count": 340,
     "metadata": {},
     "output_type": "execute_result"
    }
   ],
   "source": [
    "parse_xgb_output(output, 0.3, depth).sort_values(by='val_rmse').head()"
   ]
  },
  {
   "cell_type": "code",
   "execution_count": 341,
   "id": "11d4e544",
   "metadata": {},
   "outputs": [],
   "source": [
    "%%capture output\n",
    "\n",
    "depth = 7\n",
    "xgb_params = {\n",
    "    'eta': 0.3,\n",
    "    'max_depth': depth,\n",
    "    'min_child_weight': 1,\n",
    "\n",
    "    'objective': 'reg:squarederror',\n",
    "    'nthread': 8,\n",
    "    'eval_metric': 'rmse',\n",
    "    'seed': 42,\n",
    "    'verbosity': 1,\n",
    "}\n",
    "xgb.train(xgb_params, dtrain, evals=watchlist, num_boost_round=100)"
   ]
  },
  {
   "cell_type": "code",
   "execution_count": 342,
   "id": "74a4e1fb",
   "metadata": {},
   "outputs": [
    {
     "data": {
      "text/html": [
       "<div>\n",
       "<style scoped>\n",
       "    .dataframe tbody tr th:only-of-type {\n",
       "        vertical-align: middle;\n",
       "    }\n",
       "\n",
       "    .dataframe tbody tr th {\n",
       "        vertical-align: top;\n",
       "    }\n",
       "\n",
       "    .dataframe thead th {\n",
       "        text-align: right;\n",
       "    }\n",
       "</style>\n",
       "<table border=\"1\" class=\"dataframe\">\n",
       "  <thead>\n",
       "    <tr style=\"text-align: right;\">\n",
       "      <th></th>\n",
       "      <th>eta</th>\n",
       "      <th>depth</th>\n",
       "      <th>iter_num</th>\n",
       "      <th>train_rmse</th>\n",
       "      <th>val_rmse</th>\n",
       "    </tr>\n",
       "  </thead>\n",
       "  <tbody>\n",
       "    <tr>\n",
       "      <th>11</th>\n",
       "      <td>0.3</td>\n",
       "      <td>7</td>\n",
       "      <td>11</td>\n",
       "      <td>2340.68115</td>\n",
       "      <td>4488.66016</td>\n",
       "    </tr>\n",
       "    <tr>\n",
       "      <th>10</th>\n",
       "      <td>0.3</td>\n",
       "      <td>7</td>\n",
       "      <td>10</td>\n",
       "      <td>2416.40796</td>\n",
       "      <td>4492.34228</td>\n",
       "    </tr>\n",
       "    <tr>\n",
       "      <th>12</th>\n",
       "      <td>0.3</td>\n",
       "      <td>7</td>\n",
       "      <td>12</td>\n",
       "      <td>2244.89429</td>\n",
       "      <td>4495.04590</td>\n",
       "    </tr>\n",
       "    <tr>\n",
       "      <th>9</th>\n",
       "      <td>0.3</td>\n",
       "      <td>7</td>\n",
       "      <td>9</td>\n",
       "      <td>2643.61938</td>\n",
       "      <td>4513.22803</td>\n",
       "    </tr>\n",
       "    <tr>\n",
       "      <th>13</th>\n",
       "      <td>0.3</td>\n",
       "      <td>7</td>\n",
       "      <td>13</td>\n",
       "      <td>2167.08667</td>\n",
       "      <td>4516.96143</td>\n",
       "    </tr>\n",
       "  </tbody>\n",
       "</table>\n",
       "</div>"
      ],
      "text/plain": [
       "    eta  depth  iter_num  train_rmse    val_rmse\n",
       "11  0.3      7        11  2340.68115  4488.66016\n",
       "10  0.3      7        10  2416.40796  4492.34228\n",
       "12  0.3      7        12  2244.89429  4495.04590\n",
       "9   0.3      7         9  2643.61938  4513.22803\n",
       "13  0.3      7        13  2167.08667  4516.96143"
      ]
     },
     "execution_count": 342,
     "metadata": {},
     "output_type": "execute_result"
    }
   ],
   "source": [
    "parse_xgb_output(output, 0.3, depth).sort_values(by='val_rmse').head()"
   ]
  },
  {
   "cell_type": "code",
   "execution_count": 343,
   "id": "76d208de",
   "metadata": {},
   "outputs": [],
   "source": [
    "%%capture output\n",
    "\n",
    "depth = 8\n",
    "xgb_params = {\n",
    "    'eta': 0.3,\n",
    "    'max_depth': depth,\n",
    "    'min_child_weight': 1,\n",
    "\n",
    "    'objective': 'reg:squarederror',\n",
    "    'nthread': 8,\n",
    "    'eval_metric': 'rmse',\n",
    "    'seed': 42,\n",
    "    'verbosity': 1,\n",
    "}\n",
    "xgb.train(xgb_params, dtrain, evals=watchlist, num_boost_round=100)"
   ]
  },
  {
   "cell_type": "code",
   "execution_count": 344,
   "id": "458ee9b3",
   "metadata": {},
   "outputs": [
    {
     "data": {
      "text/html": [
       "<div>\n",
       "<style scoped>\n",
       "    .dataframe tbody tr th:only-of-type {\n",
       "        vertical-align: middle;\n",
       "    }\n",
       "\n",
       "    .dataframe tbody tr th {\n",
       "        vertical-align: top;\n",
       "    }\n",
       "\n",
       "    .dataframe thead th {\n",
       "        text-align: right;\n",
       "    }\n",
       "</style>\n",
       "<table border=\"1\" class=\"dataframe\">\n",
       "  <thead>\n",
       "    <tr style=\"text-align: right;\">\n",
       "      <th></th>\n",
       "      <th>eta</th>\n",
       "      <th>depth</th>\n",
       "      <th>iter_num</th>\n",
       "      <th>train_rmse</th>\n",
       "      <th>val_rmse</th>\n",
       "    </tr>\n",
       "  </thead>\n",
       "  <tbody>\n",
       "    <tr>\n",
       "      <th>8</th>\n",
       "      <td>0.3</td>\n",
       "      <td>8</td>\n",
       "      <td>8</td>\n",
       "      <td>2389.61231</td>\n",
       "      <td>4617.20068</td>\n",
       "    </tr>\n",
       "    <tr>\n",
       "      <th>9</th>\n",
       "      <td>0.3</td>\n",
       "      <td>8</td>\n",
       "      <td>9</td>\n",
       "      <td>2161.20703</td>\n",
       "      <td>4632.82666</td>\n",
       "    </tr>\n",
       "    <tr>\n",
       "      <th>7</th>\n",
       "      <td>0.3</td>\n",
       "      <td>8</td>\n",
       "      <td>7</td>\n",
       "      <td>2653.94360</td>\n",
       "      <td>4642.00537</td>\n",
       "    </tr>\n",
       "    <tr>\n",
       "      <th>10</th>\n",
       "      <td>0.3</td>\n",
       "      <td>8</td>\n",
       "      <td>10</td>\n",
       "      <td>1959.61926</td>\n",
       "      <td>4645.19434</td>\n",
       "    </tr>\n",
       "    <tr>\n",
       "      <th>11</th>\n",
       "      <td>0.3</td>\n",
       "      <td>8</td>\n",
       "      <td>11</td>\n",
       "      <td>1820.22034</td>\n",
       "      <td>4645.63281</td>\n",
       "    </tr>\n",
       "  </tbody>\n",
       "</table>\n",
       "</div>"
      ],
      "text/plain": [
       "    eta  depth  iter_num  train_rmse    val_rmse\n",
       "8   0.3      8         8  2389.61231  4617.20068\n",
       "9   0.3      8         9  2161.20703  4632.82666\n",
       "7   0.3      8         7  2653.94360  4642.00537\n",
       "10  0.3      8        10  1959.61926  4645.19434\n",
       "11  0.3      8        11  1820.22034  4645.63281"
      ]
     },
     "execution_count": 344,
     "metadata": {},
     "output_type": "execute_result"
    }
   ],
   "source": [
    "parse_xgb_output(output, 0.3, depth).sort_values(by='val_rmse').head()"
   ]
  },
  {
   "cell_type": "code",
   "execution_count": 345,
   "id": "e3877504",
   "metadata": {},
   "outputs": [],
   "source": [
    "%%capture output\n",
    "\n",
    "depth = 9\n",
    "xgb_params = {\n",
    "    'eta': 0.3,\n",
    "    'max_depth': depth,\n",
    "    'min_child_weight': 1,\n",
    "\n",
    "    'objective': 'reg:squarederror',\n",
    "    'nthread': 8,\n",
    "    'eval_metric': 'rmse',\n",
    "    'seed': 42,\n",
    "    'verbosity': 1,\n",
    "}\n",
    "xgb.train(xgb_params, dtrain, evals=watchlist, num_boost_round=100)"
   ]
  },
  {
   "cell_type": "code",
   "execution_count": 346,
   "id": "ba4d589a",
   "metadata": {},
   "outputs": [
    {
     "data": {
      "text/html": [
       "<div>\n",
       "<style scoped>\n",
       "    .dataframe tbody tr th:only-of-type {\n",
       "        vertical-align: middle;\n",
       "    }\n",
       "\n",
       "    .dataframe tbody tr th {\n",
       "        vertical-align: top;\n",
       "    }\n",
       "\n",
       "    .dataframe thead th {\n",
       "        text-align: right;\n",
       "    }\n",
       "</style>\n",
       "<table border=\"1\" class=\"dataframe\">\n",
       "  <thead>\n",
       "    <tr style=\"text-align: right;\">\n",
       "      <th></th>\n",
       "      <th>eta</th>\n",
       "      <th>depth</th>\n",
       "      <th>iter_num</th>\n",
       "      <th>train_rmse</th>\n",
       "      <th>val_rmse</th>\n",
       "    </tr>\n",
       "  </thead>\n",
       "  <tbody>\n",
       "    <tr>\n",
       "      <th>10</th>\n",
       "      <td>0.3</td>\n",
       "      <td>9</td>\n",
       "      <td>10</td>\n",
       "      <td>1581.48828</td>\n",
       "      <td>4763.48242</td>\n",
       "    </tr>\n",
       "    <tr>\n",
       "      <th>11</th>\n",
       "      <td>0.3</td>\n",
       "      <td>9</td>\n",
       "      <td>11</td>\n",
       "      <td>1426.54285</td>\n",
       "      <td>4778.06641</td>\n",
       "    </tr>\n",
       "    <tr>\n",
       "      <th>9</th>\n",
       "      <td>0.3</td>\n",
       "      <td>9</td>\n",
       "      <td>9</td>\n",
       "      <td>1761.04236</td>\n",
       "      <td>4788.87500</td>\n",
       "    </tr>\n",
       "    <tr>\n",
       "      <th>8</th>\n",
       "      <td>0.3</td>\n",
       "      <td>9</td>\n",
       "      <td>8</td>\n",
       "      <td>2044.08826</td>\n",
       "      <td>4796.21045</td>\n",
       "    </tr>\n",
       "    <tr>\n",
       "      <th>12</th>\n",
       "      <td>0.3</td>\n",
       "      <td>9</td>\n",
       "      <td>12</td>\n",
       "      <td>1309.18298</td>\n",
       "      <td>4808.29053</td>\n",
       "    </tr>\n",
       "  </tbody>\n",
       "</table>\n",
       "</div>"
      ],
      "text/plain": [
       "    eta  depth  iter_num  train_rmse    val_rmse\n",
       "10  0.3      9        10  1581.48828  4763.48242\n",
       "11  0.3      9        11  1426.54285  4778.06641\n",
       "9   0.3      9         9  1761.04236  4788.87500\n",
       "8   0.3      9         8  2044.08826  4796.21045\n",
       "12  0.3      9        12  1309.18298  4808.29053"
      ]
     },
     "execution_count": 346,
     "metadata": {},
     "output_type": "execute_result"
    }
   ],
   "source": [
    "parse_xgb_output(output, 0.3, depth).sort_values(by='val_rmse').head()"
   ]
  },
  {
   "cell_type": "code",
   "execution_count": 347,
   "id": "a217b911",
   "metadata": {},
   "outputs": [],
   "source": [
    "%%capture output\n",
    "\n",
    "depth = 10\n",
    "xgb_params = {\n",
    "    'eta': 0.3,\n",
    "    'max_depth': depth,\n",
    "    'min_child_weight': 1,\n",
    "\n",
    "    'objective': 'reg:squarederror',\n",
    "    'nthread': 8,\n",
    "    'eval_metric': 'rmse',\n",
    "    'seed': 42,\n",
    "    'verbosity': 1,\n",
    "}\n",
    "xgb.train(xgb_params, dtrain, evals=watchlist, num_boost_round=100)"
   ]
  },
  {
   "cell_type": "code",
   "execution_count": 348,
   "id": "121ac82a",
   "metadata": {},
   "outputs": [
    {
     "data": {
      "text/html": [
       "<div>\n",
       "<style scoped>\n",
       "    .dataframe tbody tr th:only-of-type {\n",
       "        vertical-align: middle;\n",
       "    }\n",
       "\n",
       "    .dataframe tbody tr th {\n",
       "        vertical-align: top;\n",
       "    }\n",
       "\n",
       "    .dataframe thead th {\n",
       "        text-align: right;\n",
       "    }\n",
       "</style>\n",
       "<table border=\"1\" class=\"dataframe\">\n",
       "  <thead>\n",
       "    <tr style=\"text-align: right;\">\n",
       "      <th></th>\n",
       "      <th>eta</th>\n",
       "      <th>depth</th>\n",
       "      <th>iter_num</th>\n",
       "      <th>train_rmse</th>\n",
       "      <th>val_rmse</th>\n",
       "    </tr>\n",
       "  </thead>\n",
       "  <tbody>\n",
       "    <tr>\n",
       "      <th>8</th>\n",
       "      <td>0.3</td>\n",
       "      <td>10</td>\n",
       "      <td>8</td>\n",
       "      <td>1908.07361</td>\n",
       "      <td>4839.16357</td>\n",
       "    </tr>\n",
       "    <tr>\n",
       "      <th>7</th>\n",
       "      <td>0.3</td>\n",
       "      <td>10</td>\n",
       "      <td>7</td>\n",
       "      <td>2258.62061</td>\n",
       "      <td>4856.93603</td>\n",
       "    </tr>\n",
       "    <tr>\n",
       "      <th>9</th>\n",
       "      <td>0.3</td>\n",
       "      <td>10</td>\n",
       "      <td>9</td>\n",
       "      <td>1658.07202</td>\n",
       "      <td>4858.14600</td>\n",
       "    </tr>\n",
       "    <tr>\n",
       "      <th>10</th>\n",
       "      <td>0.3</td>\n",
       "      <td>10</td>\n",
       "      <td>10</td>\n",
       "      <td>1437.83569</td>\n",
       "      <td>4865.09863</td>\n",
       "    </tr>\n",
       "    <tr>\n",
       "      <th>11</th>\n",
       "      <td>0.3</td>\n",
       "      <td>10</td>\n",
       "      <td>11</td>\n",
       "      <td>1231.18811</td>\n",
       "      <td>4874.62695</td>\n",
       "    </tr>\n",
       "  </tbody>\n",
       "</table>\n",
       "</div>"
      ],
      "text/plain": [
       "    eta  depth  iter_num  train_rmse    val_rmse\n",
       "8   0.3     10         8  1908.07361  4839.16357\n",
       "7   0.3     10         7  2258.62061  4856.93603\n",
       "9   0.3     10         9  1658.07202  4858.14600\n",
       "10  0.3     10        10  1437.83569  4865.09863\n",
       "11  0.3     10        11  1231.18811  4874.62695"
      ]
     },
     "execution_count": 348,
     "metadata": {},
     "output_type": "execute_result"
    }
   ],
   "source": [
    "parse_xgb_output(output, 0.3, depth).sort_values(by='val_rmse').head()"
   ]
  },
  {
   "cell_type": "code",
   "execution_count": 349,
   "id": "29ddfc15",
   "metadata": {},
   "outputs": [],
   "source": [
    "%%capture output\n",
    "\n",
    "eta = 0.01\n",
    "depth = 2\n",
    "xgb_params = {\n",
    "    'eta': eta,\n",
    "    'max_depth': depth,\n",
    "    'min_child_weight': 1,\n",
    "\n",
    "    'objective': 'reg:squarederror',\n",
    "    'nthread': 8,\n",
    "    'eval_metric': 'rmse',\n",
    "    'seed': 42,\n",
    "    'verbosity': 1,\n",
    "}\n",
    "xgb.train(xgb_params, dtrain, evals=watchlist, num_boost_round=100)"
   ]
  },
  {
   "cell_type": "code",
   "execution_count": 350,
   "id": "e3b1563a",
   "metadata": {},
   "outputs": [
    {
     "data": {
      "text/html": [
       "<div>\n",
       "<style scoped>\n",
       "    .dataframe tbody tr th:only-of-type {\n",
       "        vertical-align: middle;\n",
       "    }\n",
       "\n",
       "    .dataframe tbody tr th {\n",
       "        vertical-align: top;\n",
       "    }\n",
       "\n",
       "    .dataframe thead th {\n",
       "        text-align: right;\n",
       "    }\n",
       "</style>\n",
       "<table border=\"1\" class=\"dataframe\">\n",
       "  <thead>\n",
       "    <tr style=\"text-align: right;\">\n",
       "      <th></th>\n",
       "      <th>eta</th>\n",
       "      <th>depth</th>\n",
       "      <th>iter_num</th>\n",
       "      <th>train_rmse</th>\n",
       "      <th>val_rmse</th>\n",
       "    </tr>\n",
       "  </thead>\n",
       "  <tbody>\n",
       "    <tr>\n",
       "      <th>99</th>\n",
       "      <td>0.01</td>\n",
       "      <td>2</td>\n",
       "      <td>99</td>\n",
       "      <td>7890.63916</td>\n",
       "      <td>7601.27002</td>\n",
       "    </tr>\n",
       "    <tr>\n",
       "      <th>98</th>\n",
       "      <td>0.01</td>\n",
       "      <td>2</td>\n",
       "      <td>98</td>\n",
       "      <td>7940.30713</td>\n",
       "      <td>7651.41699</td>\n",
       "    </tr>\n",
       "    <tr>\n",
       "      <th>97</th>\n",
       "      <td>0.01</td>\n",
       "      <td>2</td>\n",
       "      <td>97</td>\n",
       "      <td>7990.63525</td>\n",
       "      <td>7700.60840</td>\n",
       "    </tr>\n",
       "    <tr>\n",
       "      <th>96</th>\n",
       "      <td>0.01</td>\n",
       "      <td>2</td>\n",
       "      <td>96</td>\n",
       "      <td>8041.61475</td>\n",
       "      <td>7751.31494</td>\n",
       "    </tr>\n",
       "    <tr>\n",
       "      <th>95</th>\n",
       "      <td>0.01</td>\n",
       "      <td>2</td>\n",
       "      <td>95</td>\n",
       "      <td>8093.26660</td>\n",
       "      <td>7801.16846</td>\n",
       "    </tr>\n",
       "  </tbody>\n",
       "</table>\n",
       "</div>"
      ],
      "text/plain": [
       "     eta  depth  iter_num  train_rmse    val_rmse\n",
       "99  0.01      2        99  7890.63916  7601.27002\n",
       "98  0.01      2        98  7940.30713  7651.41699\n",
       "97  0.01      2        97  7990.63525  7700.60840\n",
       "96  0.01      2        96  8041.61475  7751.31494\n",
       "95  0.01      2        95  8093.26660  7801.16846"
      ]
     },
     "execution_count": 350,
     "metadata": {},
     "output_type": "execute_result"
    }
   ],
   "source": [
    "parse_xgb_output(output, eta, depth).sort_values(by='val_rmse').head()"
   ]
  },
  {
   "cell_type": "code",
   "execution_count": 351,
   "id": "ec3fa5a3",
   "metadata": {},
   "outputs": [],
   "source": [
    "%%capture output\n",
    "\n",
    "eta = 0.05\n",
    "xgb_params = {\n",
    "    'eta': eta,\n",
    "    'max_depth': depth,\n",
    "    'min_child_weight': 1,\n",
    "\n",
    "    'objective': 'reg:squarederror',\n",
    "    'nthread': 8,\n",
    "    'eval_metric': 'rmse',\n",
    "    'seed': 42,\n",
    "    'verbosity': 1,\n",
    "}\n",
    "xgb.train(xgb_params, dtrain, evals=watchlist, num_boost_round=100)"
   ]
  },
  {
   "cell_type": "code",
   "execution_count": 352,
   "id": "f2e1e852",
   "metadata": {},
   "outputs": [
    {
     "data": {
      "text/html": [
       "<div>\n",
       "<style scoped>\n",
       "    .dataframe tbody tr th:only-of-type {\n",
       "        vertical-align: middle;\n",
       "    }\n",
       "\n",
       "    .dataframe tbody tr th {\n",
       "        vertical-align: top;\n",
       "    }\n",
       "\n",
       "    .dataframe thead th {\n",
       "        text-align: right;\n",
       "    }\n",
       "</style>\n",
       "<table border=\"1\" class=\"dataframe\">\n",
       "  <thead>\n",
       "    <tr style=\"text-align: right;\">\n",
       "      <th></th>\n",
       "      <th>eta</th>\n",
       "      <th>depth</th>\n",
       "      <th>iter_num</th>\n",
       "      <th>train_rmse</th>\n",
       "      <th>val_rmse</th>\n",
       "    </tr>\n",
       "  </thead>\n",
       "  <tbody>\n",
       "    <tr>\n",
       "      <th>98</th>\n",
       "      <td>0.05</td>\n",
       "      <td>2</td>\n",
       "      <td>98</td>\n",
       "      <td>4223.85352</td>\n",
       "      <td>4123.12158</td>\n",
       "    </tr>\n",
       "    <tr>\n",
       "      <th>99</th>\n",
       "      <td>0.05</td>\n",
       "      <td>2</td>\n",
       "      <td>99</td>\n",
       "      <td>4221.27490</td>\n",
       "      <td>4123.51514</td>\n",
       "    </tr>\n",
       "    <tr>\n",
       "      <th>97</th>\n",
       "      <td>0.05</td>\n",
       "      <td>2</td>\n",
       "      <td>97</td>\n",
       "      <td>4230.86084</td>\n",
       "      <td>4131.13281</td>\n",
       "    </tr>\n",
       "    <tr>\n",
       "      <th>95</th>\n",
       "      <td>0.05</td>\n",
       "      <td>2</td>\n",
       "      <td>95</td>\n",
       "      <td>4238.69043</td>\n",
       "      <td>4131.44531</td>\n",
       "    </tr>\n",
       "    <tr>\n",
       "      <th>94</th>\n",
       "      <td>0.05</td>\n",
       "      <td>2</td>\n",
       "      <td>94</td>\n",
       "      <td>4242.08057</td>\n",
       "      <td>4131.64404</td>\n",
       "    </tr>\n",
       "  </tbody>\n",
       "</table>\n",
       "</div>"
      ],
      "text/plain": [
       "     eta  depth  iter_num  train_rmse    val_rmse\n",
       "98  0.05      2        98  4223.85352  4123.12158\n",
       "99  0.05      2        99  4221.27490  4123.51514\n",
       "97  0.05      2        97  4230.86084  4131.13281\n",
       "95  0.05      2        95  4238.69043  4131.44531\n",
       "94  0.05      2        94  4242.08057  4131.64404"
      ]
     },
     "execution_count": 352,
     "metadata": {},
     "output_type": "execute_result"
    }
   ],
   "source": [
    "parse_xgb_output(output, eta, depth).sort_values(by='val_rmse').head()"
   ]
  },
  {
   "cell_type": "code",
   "execution_count": 353,
   "id": "3f81071e",
   "metadata": {},
   "outputs": [],
   "source": [
    "%%capture output\n",
    "\n",
    "eta = 0.1\n",
    "xgb_params = {\n",
    "    'eta': eta,\n",
    "    'max_depth': depth,\n",
    "    'min_child_weight': 1,\n",
    "\n",
    "    'objective': 'reg:squarederror',\n",
    "    'nthread': 8,\n",
    "    'eval_metric': 'rmse',\n",
    "    'seed': 42,\n",
    "    'verbosity': 1,\n",
    "}\n",
    "xgb.train(xgb_params, dtrain, evals=watchlist, num_boost_round=100)"
   ]
  },
  {
   "cell_type": "code",
   "execution_count": 354,
   "id": "0295638c",
   "metadata": {},
   "outputs": [
    {
     "data": {
      "text/html": [
       "<div>\n",
       "<style scoped>\n",
       "    .dataframe tbody tr th:only-of-type {\n",
       "        vertical-align: middle;\n",
       "    }\n",
       "\n",
       "    .dataframe tbody tr th {\n",
       "        vertical-align: top;\n",
       "    }\n",
       "\n",
       "    .dataframe thead th {\n",
       "        text-align: right;\n",
       "    }\n",
       "</style>\n",
       "<table border=\"1\" class=\"dataframe\">\n",
       "  <thead>\n",
       "    <tr style=\"text-align: right;\">\n",
       "      <th></th>\n",
       "      <th>eta</th>\n",
       "      <th>depth</th>\n",
       "      <th>iter_num</th>\n",
       "      <th>train_rmse</th>\n",
       "      <th>val_rmse</th>\n",
       "    </tr>\n",
       "  </thead>\n",
       "  <tbody>\n",
       "    <tr>\n",
       "      <th>70</th>\n",
       "      <td>0.1</td>\n",
       "      <td>2</td>\n",
       "      <td>70</td>\n",
       "      <td>4104.75928</td>\n",
       "      <td>4067.69165</td>\n",
       "    </tr>\n",
       "    <tr>\n",
       "      <th>71</th>\n",
       "      <td>0.1</td>\n",
       "      <td>2</td>\n",
       "      <td>71</td>\n",
       "      <td>4102.85791</td>\n",
       "      <td>4068.67481</td>\n",
       "    </tr>\n",
       "    <tr>\n",
       "      <th>69</th>\n",
       "      <td>0.1</td>\n",
       "      <td>2</td>\n",
       "      <td>69</td>\n",
       "      <td>4106.34180</td>\n",
       "      <td>4069.46558</td>\n",
       "    </tr>\n",
       "    <tr>\n",
       "      <th>68</th>\n",
       "      <td>0.1</td>\n",
       "      <td>2</td>\n",
       "      <td>68</td>\n",
       "      <td>4109.64941</td>\n",
       "      <td>4069.75952</td>\n",
       "    </tr>\n",
       "    <tr>\n",
       "      <th>64</th>\n",
       "      <td>0.1</td>\n",
       "      <td>2</td>\n",
       "      <td>64</td>\n",
       "      <td>4124.81152</td>\n",
       "      <td>4069.99829</td>\n",
       "    </tr>\n",
       "  </tbody>\n",
       "</table>\n",
       "</div>"
      ],
      "text/plain": [
       "    eta  depth  iter_num  train_rmse    val_rmse\n",
       "70  0.1      2        70  4104.75928  4067.69165\n",
       "71  0.1      2        71  4102.85791  4068.67481\n",
       "69  0.1      2        69  4106.34180  4069.46558\n",
       "68  0.1      2        68  4109.64941  4069.75952\n",
       "64  0.1      2        64  4124.81152  4069.99829"
      ]
     },
     "execution_count": 354,
     "metadata": {},
     "output_type": "execute_result"
    }
   ],
   "source": [
    "parse_xgb_output(output, eta, depth).sort_values(by='val_rmse').head()"
   ]
  },
  {
   "cell_type": "code",
   "execution_count": 355,
   "id": "8f87d6d6",
   "metadata": {},
   "outputs": [],
   "source": [
    "%%capture output\n",
    "\n",
    "eta = 0.15\n",
    "xgb_params = {\n",
    "    'eta': eta,\n",
    "    'max_depth': depth,\n",
    "    'min_child_weight': 1,\n",
    "\n",
    "    'objective': 'reg:squarederror',\n",
    "    'nthread': 8,\n",
    "    'eval_metric': 'rmse',\n",
    "    'seed': 42,\n",
    "    'verbosity': 1,\n",
    "}\n",
    "xgb.train(xgb_params, dtrain, evals=watchlist, num_boost_round=100)"
   ]
  },
  {
   "cell_type": "code",
   "execution_count": 356,
   "id": "05fa6555",
   "metadata": {},
   "outputs": [
    {
     "data": {
      "text/html": [
       "<div>\n",
       "<style scoped>\n",
       "    .dataframe tbody tr th:only-of-type {\n",
       "        vertical-align: middle;\n",
       "    }\n",
       "\n",
       "    .dataframe tbody tr th {\n",
       "        vertical-align: top;\n",
       "    }\n",
       "\n",
       "    .dataframe thead th {\n",
       "        text-align: right;\n",
       "    }\n",
       "</style>\n",
       "<table border=\"1\" class=\"dataframe\">\n",
       "  <thead>\n",
       "    <tr style=\"text-align: right;\">\n",
       "      <th></th>\n",
       "      <th>eta</th>\n",
       "      <th>depth</th>\n",
       "      <th>iter_num</th>\n",
       "      <th>train_rmse</th>\n",
       "      <th>val_rmse</th>\n",
       "    </tr>\n",
       "  </thead>\n",
       "  <tbody>\n",
       "    <tr>\n",
       "      <th>43</th>\n",
       "      <td>0.15</td>\n",
       "      <td>2</td>\n",
       "      <td>43</td>\n",
       "      <td>4106.56006</td>\n",
       "      <td>4058.47461</td>\n",
       "    </tr>\n",
       "    <tr>\n",
       "      <th>48</th>\n",
       "      <td>0.15</td>\n",
       "      <td>2</td>\n",
       "      <td>48</td>\n",
       "      <td>4082.49707</td>\n",
       "      <td>4059.97339</td>\n",
       "    </tr>\n",
       "    <tr>\n",
       "      <th>46</th>\n",
       "      <td>0.15</td>\n",
       "      <td>2</td>\n",
       "      <td>46</td>\n",
       "      <td>4090.16235</td>\n",
       "      <td>4060.05420</td>\n",
       "    </tr>\n",
       "    <tr>\n",
       "      <th>44</th>\n",
       "      <td>0.15</td>\n",
       "      <td>2</td>\n",
       "      <td>44</td>\n",
       "      <td>4100.78955</td>\n",
       "      <td>4061.57959</td>\n",
       "    </tr>\n",
       "    <tr>\n",
       "      <th>50</th>\n",
       "      <td>0.15</td>\n",
       "      <td>2</td>\n",
       "      <td>50</td>\n",
       "      <td>4075.68066</td>\n",
       "      <td>4061.66309</td>\n",
       "    </tr>\n",
       "  </tbody>\n",
       "</table>\n",
       "</div>"
      ],
      "text/plain": [
       "     eta  depth  iter_num  train_rmse    val_rmse\n",
       "43  0.15      2        43  4106.56006  4058.47461\n",
       "48  0.15      2        48  4082.49707  4059.97339\n",
       "46  0.15      2        46  4090.16235  4060.05420\n",
       "44  0.15      2        44  4100.78955  4061.57959\n",
       "50  0.15      2        50  4075.68066  4061.66309"
      ]
     },
     "execution_count": 356,
     "metadata": {},
     "output_type": "execute_result"
    }
   ],
   "source": [
    "parse_xgb_output(output, eta, depth).sort_values(by='val_rmse').head()"
   ]
  },
  {
   "cell_type": "code",
   "execution_count": 357,
   "id": "e38f0039",
   "metadata": {},
   "outputs": [],
   "source": [
    "%%capture output\n",
    "\n",
    "eta = 0.2\n",
    "xgb_params = {\n",
    "    'eta': eta,\n",
    "    'max_depth': depth,\n",
    "    'min_child_weight': 1,\n",
    "\n",
    "    'objective': 'reg:squarederror',\n",
    "    'nthread': 8,\n",
    "    'eval_metric': 'rmse',\n",
    "    'seed': 42,\n",
    "    'verbosity': 1,\n",
    "}\n",
    "xgb.train(xgb_params, dtrain, evals=watchlist, num_boost_round=100)"
   ]
  },
  {
   "cell_type": "code",
   "execution_count": 358,
   "id": "858cfaab",
   "metadata": {},
   "outputs": [
    {
     "data": {
      "text/html": [
       "<div>\n",
       "<style scoped>\n",
       "    .dataframe tbody tr th:only-of-type {\n",
       "        vertical-align: middle;\n",
       "    }\n",
       "\n",
       "    .dataframe tbody tr th {\n",
       "        vertical-align: top;\n",
       "    }\n",
       "\n",
       "    .dataframe thead th {\n",
       "        text-align: right;\n",
       "    }\n",
       "</style>\n",
       "<table border=\"1\" class=\"dataframe\">\n",
       "  <thead>\n",
       "    <tr style=\"text-align: right;\">\n",
       "      <th></th>\n",
       "      <th>eta</th>\n",
       "      <th>depth</th>\n",
       "      <th>iter_num</th>\n",
       "      <th>train_rmse</th>\n",
       "      <th>val_rmse</th>\n",
       "    </tr>\n",
       "  </thead>\n",
       "  <tbody>\n",
       "    <tr>\n",
       "      <th>39</th>\n",
       "      <td>0.2</td>\n",
       "      <td>2</td>\n",
       "      <td>39</td>\n",
       "      <td>4089.74805</td>\n",
       "      <td>4076.13379</td>\n",
       "    </tr>\n",
       "    <tr>\n",
       "      <th>40</th>\n",
       "      <td>0.2</td>\n",
       "      <td>2</td>\n",
       "      <td>40</td>\n",
       "      <td>4084.39307</td>\n",
       "      <td>4077.40698</td>\n",
       "    </tr>\n",
       "    <tr>\n",
       "      <th>31</th>\n",
       "      <td>0.2</td>\n",
       "      <td>2</td>\n",
       "      <td>31</td>\n",
       "      <td>4135.69922</td>\n",
       "      <td>4078.84668</td>\n",
       "    </tr>\n",
       "    <tr>\n",
       "      <th>35</th>\n",
       "      <td>0.2</td>\n",
       "      <td>2</td>\n",
       "      <td>35</td>\n",
       "      <td>4109.57910</td>\n",
       "      <td>4078.91626</td>\n",
       "    </tr>\n",
       "    <tr>\n",
       "      <th>27</th>\n",
       "      <td>0.2</td>\n",
       "      <td>2</td>\n",
       "      <td>27</td>\n",
       "      <td>4180.20947</td>\n",
       "      <td>4079.53271</td>\n",
       "    </tr>\n",
       "  </tbody>\n",
       "</table>\n",
       "</div>"
      ],
      "text/plain": [
       "    eta  depth  iter_num  train_rmse    val_rmse\n",
       "39  0.2      2        39  4089.74805  4076.13379\n",
       "40  0.2      2        40  4084.39307  4077.40698\n",
       "31  0.2      2        31  4135.69922  4078.84668\n",
       "35  0.2      2        35  4109.57910  4078.91626\n",
       "27  0.2      2        27  4180.20947  4079.53271"
      ]
     },
     "execution_count": 358,
     "metadata": {},
     "output_type": "execute_result"
    }
   ],
   "source": [
    "parse_xgb_output(output, eta, depth).sort_values(by='val_rmse').head()"
   ]
  },
  {
   "cell_type": "code",
   "execution_count": 359,
   "id": "614eefcc",
   "metadata": {},
   "outputs": [],
   "source": [
    "%%capture output\n",
    "\n",
    "eta = 0.25\n",
    "xgb_params = {\n",
    "    'eta': eta,\n",
    "    'max_depth': depth,\n",
    "    'min_child_weight': 1,\n",
    "\n",
    "    'objective': 'reg:squarederror',\n",
    "    'nthread': 8,\n",
    "    'eval_metric': 'rmse',\n",
    "    'seed': 42,\n",
    "    'verbosity': 1,\n",
    "}\n",
    "xgb.train(xgb_params, dtrain, evals=watchlist, num_boost_round=100)"
   ]
  },
  {
   "cell_type": "code",
   "execution_count": 360,
   "id": "f78a359b",
   "metadata": {},
   "outputs": [
    {
     "data": {
      "text/html": [
       "<div>\n",
       "<style scoped>\n",
       "    .dataframe tbody tr th:only-of-type {\n",
       "        vertical-align: middle;\n",
       "    }\n",
       "\n",
       "    .dataframe tbody tr th {\n",
       "        vertical-align: top;\n",
       "    }\n",
       "\n",
       "    .dataframe thead th {\n",
       "        text-align: right;\n",
       "    }\n",
       "</style>\n",
       "<table border=\"1\" class=\"dataframe\">\n",
       "  <thead>\n",
       "    <tr style=\"text-align: right;\">\n",
       "      <th></th>\n",
       "      <th>eta</th>\n",
       "      <th>depth</th>\n",
       "      <th>iter_num</th>\n",
       "      <th>train_rmse</th>\n",
       "      <th>val_rmse</th>\n",
       "    </tr>\n",
       "  </thead>\n",
       "  <tbody>\n",
       "    <tr>\n",
       "      <th>32</th>\n",
       "      <td>0.25</td>\n",
       "      <td>2</td>\n",
       "      <td>32</td>\n",
       "      <td>4044.39282</td>\n",
       "      <td>4048.00464</td>\n",
       "    </tr>\n",
       "    <tr>\n",
       "      <th>30</th>\n",
       "      <td>0.25</td>\n",
       "      <td>2</td>\n",
       "      <td>30</td>\n",
       "      <td>4056.70386</td>\n",
       "      <td>4048.33325</td>\n",
       "    </tr>\n",
       "    <tr>\n",
       "      <th>31</th>\n",
       "      <td>0.25</td>\n",
       "      <td>2</td>\n",
       "      <td>31</td>\n",
       "      <td>4049.80322</td>\n",
       "      <td>4051.82764</td>\n",
       "    </tr>\n",
       "    <tr>\n",
       "      <th>25</th>\n",
       "      <td>0.25</td>\n",
       "      <td>2</td>\n",
       "      <td>25</td>\n",
       "      <td>4109.74316</td>\n",
       "      <td>4051.87793</td>\n",
       "    </tr>\n",
       "    <tr>\n",
       "      <th>24</th>\n",
       "      <td>0.25</td>\n",
       "      <td>2</td>\n",
       "      <td>24</td>\n",
       "      <td>4119.70166</td>\n",
       "      <td>4054.35327</td>\n",
       "    </tr>\n",
       "  </tbody>\n",
       "</table>\n",
       "</div>"
      ],
      "text/plain": [
       "     eta  depth  iter_num  train_rmse    val_rmse\n",
       "32  0.25      2        32  4044.39282  4048.00464\n",
       "30  0.25      2        30  4056.70386  4048.33325\n",
       "31  0.25      2        31  4049.80322  4051.82764\n",
       "25  0.25      2        25  4109.74316  4051.87793\n",
       "24  0.25      2        24  4119.70166  4054.35327"
      ]
     },
     "execution_count": 360,
     "metadata": {},
     "output_type": "execute_result"
    }
   ],
   "source": [
    "parse_xgb_output(output, eta, depth).sort_values(by='val_rmse').head()"
   ]
  },
  {
   "cell_type": "code",
   "execution_count": 361,
   "id": "84c7c692",
   "metadata": {},
   "outputs": [],
   "source": [
    "%%capture output\n",
    "\n",
    "eta = 0.35\n",
    "xgb_params = {\n",
    "    'eta': eta,\n",
    "    'max_depth': depth,\n",
    "    'min_child_weight': 1,\n",
    "\n",
    "    'objective': 'reg:squarederror',\n",
    "    'nthread': 8,\n",
    "    'eval_metric': 'rmse',\n",
    "    'seed': 42,\n",
    "    'verbosity': 1,\n",
    "}\n",
    "xgb.train(xgb_params, dtrain, evals=watchlist, num_boost_round=100)"
   ]
  },
  {
   "cell_type": "code",
   "execution_count": 362,
   "id": "8b3bd5f9",
   "metadata": {},
   "outputs": [
    {
     "data": {
      "text/html": [
       "<div>\n",
       "<style scoped>\n",
       "    .dataframe tbody tr th:only-of-type {\n",
       "        vertical-align: middle;\n",
       "    }\n",
       "\n",
       "    .dataframe tbody tr th {\n",
       "        vertical-align: top;\n",
       "    }\n",
       "\n",
       "    .dataframe thead th {\n",
       "        text-align: right;\n",
       "    }\n",
       "</style>\n",
       "<table border=\"1\" class=\"dataframe\">\n",
       "  <thead>\n",
       "    <tr style=\"text-align: right;\">\n",
       "      <th></th>\n",
       "      <th>eta</th>\n",
       "      <th>depth</th>\n",
       "      <th>iter_num</th>\n",
       "      <th>train_rmse</th>\n",
       "      <th>val_rmse</th>\n",
       "    </tr>\n",
       "  </thead>\n",
       "  <tbody>\n",
       "    <tr>\n",
       "      <th>17</th>\n",
       "      <td>0.35</td>\n",
       "      <td>2</td>\n",
       "      <td>17</td>\n",
       "      <td>4120.29785</td>\n",
       "      <td>4066.99976</td>\n",
       "    </tr>\n",
       "    <tr>\n",
       "      <th>16</th>\n",
       "      <td>0.35</td>\n",
       "      <td>2</td>\n",
       "      <td>16</td>\n",
       "      <td>4139.69629</td>\n",
       "      <td>4073.18286</td>\n",
       "    </tr>\n",
       "    <tr>\n",
       "      <th>19</th>\n",
       "      <td>0.35</td>\n",
       "      <td>2</td>\n",
       "      <td>19</td>\n",
       "      <td>4100.26367</td>\n",
       "      <td>4074.95044</td>\n",
       "    </tr>\n",
       "    <tr>\n",
       "      <th>18</th>\n",
       "      <td>0.35</td>\n",
       "      <td>2</td>\n",
       "      <td>18</td>\n",
       "      <td>4112.38135</td>\n",
       "      <td>4075.25293</td>\n",
       "    </tr>\n",
       "    <tr>\n",
       "      <th>20</th>\n",
       "      <td>0.35</td>\n",
       "      <td>2</td>\n",
       "      <td>20</td>\n",
       "      <td>4087.20557</td>\n",
       "      <td>4082.02588</td>\n",
       "    </tr>\n",
       "  </tbody>\n",
       "</table>\n",
       "</div>"
      ],
      "text/plain": [
       "     eta  depth  iter_num  train_rmse    val_rmse\n",
       "17  0.35      2        17  4120.29785  4066.99976\n",
       "16  0.35      2        16  4139.69629  4073.18286\n",
       "19  0.35      2        19  4100.26367  4074.95044\n",
       "18  0.35      2        18  4112.38135  4075.25293\n",
       "20  0.35      2        20  4087.20557  4082.02588"
      ]
     },
     "execution_count": 362,
     "metadata": {},
     "output_type": "execute_result"
    }
   ],
   "source": [
    "parse_xgb_output(output, eta, depth).sort_values(by='val_rmse').head()"
   ]
  },
  {
   "cell_type": "code",
   "execution_count": 364,
   "id": "2eb5fd53",
   "metadata": {},
   "outputs": [],
   "source": [
    "%%capture\n",
    "\n",
    "eta = 0.25\n",
    "depth = 2\n",
    "xgb_params = {\n",
    "    'eta': eta,\n",
    "    'max_depth': depth,\n",
    "    'min_child_weight': 1,\n",
    "\n",
    "    'objective': 'reg:squarederror',\n",
    "    'nthread': 8,\n",
    "    'eval_metric': 'rmse',\n",
    "    'seed': 42,\n",
    "    'verbosity': 1,\n",
    "}\n",
    "model_3 = xgb.train(xgb_params, dtrain, evals=watchlist, num_boost_round=100)"
   ]
  },
  {
   "cell_type": "code",
   "execution_count": 374,
   "id": "84aac44f",
   "metadata": {},
   "outputs": [
    {
     "data": {
      "text/plain": [
       "4048.0045426801703"
      ]
     },
     "execution_count": 374,
     "metadata": {},
     "output_type": "execute_result"
    }
   ],
   "source": [
    "y_pred = model_3.predict(dval, iteration_range=(0, 33))\n",
    "np.sqrt(mean_squared_error(y_val, y_pred))"
   ]
  },
  {
   "cell_type": "code",
   "execution_count": null,
   "id": "70c496d2",
   "metadata": {},
   "outputs": [],
   "source": []
  }
 ],
 "metadata": {
  "kernelspec": {
   "display_name": "Python 3.10.2 64-bit ('3.10.2')",
   "language": "python",
   "name": "python3"
  },
  "language_info": {
   "codemirror_mode": {
    "name": "ipython",
    "version": 3
   },
   "file_extension": ".py",
   "mimetype": "text/x-python",
   "name": "python",
   "nbconvert_exporter": "python",
   "pygments_lexer": "ipython3",
   "version": "3.10.2"
  },
  "vscode": {
   "interpreter": {
    "hash": "61bb9958da50a290ae0f9a812b02171b8ccacf6a475d2982b43d70ab706138eb"
   }
  }
 },
 "nbformat": 4,
 "nbformat_minor": 5
}
